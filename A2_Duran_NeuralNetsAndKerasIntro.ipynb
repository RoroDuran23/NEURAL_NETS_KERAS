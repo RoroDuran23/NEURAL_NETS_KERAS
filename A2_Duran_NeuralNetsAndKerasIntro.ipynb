{
  "cells": [
    {
      "cell_type": "code",
      "execution_count": 38,
      "metadata": {
        "id": "3OWiTHmUXjoW"
      },
      "outputs": [],
      "source": [
        "import pandas as pd\n",
        "import numpy as np\n",
        "import tensorflow as tf\n",
        "from sklearn.model_selection import train_test_split\n",
        "from sklearn.preprocessing import MinMaxScaler, OneHotEncoder, StandardScaler\n",
        "from sklearn.metrics import mean_squared_error\n",
        "import matplotlib.pyplot as plt\n",
        "import keras\n",
        "\n",
        "# Import the RMSprop optimizer\n",
        "from tensorflow.keras.optimizers import RMSprop\n",
        "from tensorflow.keras import layers\n",
        "\n",
        "from tensorflow.keras.preprocessing.text import Tokenizer\n",
        "from tensorflow.keras.preprocessing.sequence import pad_sequences"
      ]
    },
    {
      "cell_type": "markdown",
      "metadata": {
        "id": "PkbztWgdXgig"
      },
      "source": [
        "# Binary Classification"
      ]
    },
    {
      "cell_type": "markdown",
      "metadata": {
        "id": "u-SHEXI1WhfW"
      },
      "source": [
        "### Listing 4.1 Loading the E-Commerce dataset"
      ]
    },
    {
      "cell_type": "code",
      "execution_count": 51,
      "metadata": {
        "id": "MfF-QvdvXdwm"
      },
      "outputs": [],
      "source": [
        "# Load the dataset\n",
        "url = \"https://raw.githubusercontent.com/RoroDuran23/irisDS_CPSC393_ML/main/Womens%20Clothing%20E-Commerce%20Reviews.csv?token=GHSAT0AAAAAACJR55EKTPNXD4BQBJHLQ4HAZJ7GQPQ\"\n",
        "ecom = pd.read_csv(url)"
      ]
    },
    {
      "cell_type": "code",
      "execution_count": 52,
      "metadata": {
        "id": "B83QvCVteY6b"
      },
      "outputs": [],
      "source": [
        "# Drop null values\n",
        "ecom.dropna(inplace=True)"
      ]
    },
    {
      "cell_type": "code",
      "execution_count": 53,
      "metadata": {
        "id": "i29ek0TBYHo8"
      },
      "outputs": [],
      "source": [
        "X = ecom['Review Text']\n",
        "y = ecom['Recommended IND']"
      ]
    },
    {
      "cell_type": "code",
      "execution_count": 54,
      "metadata": {
        "id": "iUcieRrNeQtA"
      },
      "outputs": [],
      "source": [
        "X = [str(text) for text in X]"
      ]
    },
    {
      "cell_type": "code",
      "execution_count": 55,
      "metadata": {
        "id": "T8yAHpXEbhKs"
      },
      "outputs": [],
      "source": [
        "# Tokenize the text\n",
        "max_words = 10000  # Set the maximum number of words to consider\n",
        "tokenizer = Tokenizer(num_words=max_words, oov_token='<OOV>')\n",
        "tokenizer.fit_on_texts(X)\n",
        "\n",
        "# Convert text to sequences of integers\n",
        "X = tokenizer.texts_to_sequences(X)"
      ]
    },
    {
      "cell_type": "code",
      "execution_count": 56,
      "metadata": {
        "id": "oEBDjDfBegDl"
      },
      "outputs": [],
      "source": [
        "max_sequence_length = 200  # Set the maximum sequence length\n",
        "padded_sequences = pad_sequences(X, maxlen=max_sequence_length, padding='post', truncating='post')"
      ]
    },
    {
      "cell_type": "code",
      "execution_count": 57,
      "metadata": {
        "id": "E2QQytPDexCT"
      },
      "outputs": [],
      "source": [
        "train_data, test_data, train_labels, test_labels = train_test_split(X, y, test_size=0.3, random_state=42)"
      ]
    },
    {
      "cell_type": "code",
      "execution_count": 58,
      "metadata": {
        "id": "6HKazgfae4Pj",
        "colab": {
          "base_uri": "https://localhost:8080/"
        },
        "outputId": "3fb2dcc2-112c-48ab-a76f-e4e320d55873"
      },
      "outputs": [
        {
          "output_type": "execute_result",
          "data": {
            "text/plain": [
              "[55, 141, 19, 8, 7, 5, 524, 238, 6, 68, 30, 305, 45, 37, 82]"
            ]
          },
          "metadata": {},
          "execution_count": 58
        }
      ],
      "source": [
        "train_data[0]"
      ]
    },
    {
      "cell_type": "code",
      "execution_count": 59,
      "metadata": {
        "id": "NkZ7f0xyXW-q"
      },
      "outputs": [],
      "source": [
        "# Reset Labels\n",
        "train_labels = train_labels.reset_index(drop=True)"
      ]
    },
    {
      "cell_type": "code",
      "execution_count": 62,
      "metadata": {
        "id": "3SQQ3IWHfJQs",
        "colab": {
          "base_uri": "https://localhost:8080/"
        },
        "outputId": "a7b898d2-a28a-467e-d51b-412a29b95983"
      },
      "outputs": [
        {
          "output_type": "execute_result",
          "data": {
            "text/plain": [
              "1"
            ]
          },
          "metadata": {},
          "execution_count": 62
        }
      ],
      "source": [
        "train_labels[0]"
      ]
    },
    {
      "cell_type": "code",
      "execution_count": 63,
      "metadata": {
        "id": "GwEZXzUxfXLN",
        "colab": {
          "base_uri": "https://localhost:8080/"
        },
        "outputId": "c365a55f-3bab-40bc-f522-599bc12577a4"
      },
      "outputs": [
        {
          "output_type": "execute_result",
          "data": {
            "text/plain": [
              "9995"
            ]
          },
          "metadata": {},
          "execution_count": 63
        }
      ],
      "source": [
        "max([max(sequence) for sequence in train_data])"
      ]
    },
    {
      "cell_type": "markdown",
      "metadata": {
        "id": "N2muNmCIgLBl"
      },
      "source": [
        "### Listing 4.2 Decoding reviews back to text"
      ]
    },
    {
      "cell_type": "code",
      "execution_count": 64,
      "metadata": {
        "id": "-EMz_5ftgIXX"
      },
      "outputs": [],
      "source": [
        "# Access the word_index\n",
        "word_index = tokenizer.word_index"
      ]
    },
    {
      "cell_type": "code",
      "execution_count": 65,
      "metadata": {
        "id": "Xye3MxF6ghaE"
      },
      "outputs": [],
      "source": [
        "# Create a reverse word index Ids back to words\n",
        "reverse_word_index = {v: k for k, v in word_index.items()}"
      ]
    },
    {
      "cell_type": "code",
      "execution_count": 66,
      "metadata": {
        "id": "0MVyPPFrglz7",
        "colab": {
          "base_uri": "https://localhost:8080/"
        },
        "outputId": "061ace12-b317-4756-e400-a8eec65e905f"
      },
      "outputs": [
        {
          "output_type": "stream",
          "name": "stdout",
          "text": [
            "? \r tee fall muscular in a was <OOV> look make i it think in like ? covered if ? has at with hips dress this ? side a it top fewer at of at is read my ? pants so whole i would ? hemming i is has jeans bit for or form m ? have wrong for had <OOV> love comfy this ? first wrong \r the size feel underneath type <OOV> surprised 135 hot kinds go patterns mesh the mark purchased nor for ? kinds go type coverage satisfied 5'4 ? needed i inside\n"
          ]
        }
      ],
      "source": [
        "# Decode the first training sample (train_data[0]) back to words\n",
        "decoded_newswire = \" \".join([reverse_word_index.get(i - 3, \"?\") for i in X[0]])\n",
        "\n",
        "print(decoded_newswire)"
      ]
    },
    {
      "cell_type": "markdown",
      "metadata": {
        "id": "GapvHAHeg46u"
      },
      "source": [
        "### Listing 4.3 Encoding the integer sequences via multi-hot encoding"
      ]
    },
    {
      "cell_type": "code",
      "source": [
        "def vectorize_sequences(sequences, dimension=10000):\n",
        "  results = np.zeros((len(sequences), dimension))\n",
        "  for i, sequence in enumerate(sequences):\n",
        "    for j in sequence:\n",
        "      results[i, j] = 1\n",
        "    return results"
      ],
      "metadata": {
        "id": "AkyQBqPx5i63"
      },
      "execution_count": 67,
      "outputs": []
    },
    {
      "cell_type": "code",
      "execution_count": 68,
      "metadata": {
        "id": "pDsvQpO6g7HH"
      },
      "outputs": [],
      "source": [
        "x_train = vectorize_sequences(train_data)\n",
        "x_test = vectorize_sequences(test_data)"
      ]
    },
    {
      "cell_type": "code",
      "execution_count": 69,
      "metadata": {
        "id": "rBWjHuG2g_WR",
        "colab": {
          "base_uri": "https://localhost:8080/"
        },
        "outputId": "a9e9f845-00e9-450d-b91c-3c7a0900b1a2"
      },
      "outputs": [
        {
          "output_type": "execute_result",
          "data": {
            "text/plain": [
              "array([0., 0., 0., ..., 0., 0., 0.])"
            ]
          },
          "metadata": {},
          "execution_count": 69
        }
      ],
      "source": [
        "x_train[0]"
      ]
    },
    {
      "cell_type": "markdown",
      "metadata": {
        "id": "hw6vKff6hG-O"
      },
      "source": [
        "Vectorize Labels"
      ]
    },
    {
      "cell_type": "code",
      "execution_count": 70,
      "metadata": {
        "id": "q5miXpIxhAvs"
      },
      "outputs": [],
      "source": [
        "y_train = np.asarray(train_labels).astype(\"float32\")\n",
        "y_test = np.asarray(test_labels).astype(\"float32\")"
      ]
    },
    {
      "cell_type": "markdown",
      "metadata": {
        "id": "opW2nT6ThMQw"
      },
      "source": [
        "### Listing 4.4 Model definition"
      ]
    },
    {
      "cell_type": "code",
      "execution_count": 71,
      "metadata": {
        "id": "UYtDnvrehJ7k"
      },
      "outputs": [],
      "source": [
        "from tensorflow import keras\n",
        "from tensorflow.keras import layers\n",
        "model = keras.Sequential([\n",
        "    layers.Dense(16, activation=\"relu\"),\n",
        "    layers.Dense(16, activation=\"relu\"),\n",
        "    layers.Dense(1, activation=\"sigmoid\")\n",
        "])"
      ]
    },
    {
      "cell_type": "markdown",
      "metadata": {
        "id": "egAph8mUhZsT"
      },
      "source": [
        "### Listing 4.5 Compiling the model"
      ]
    },
    {
      "cell_type": "code",
      "execution_count": 72,
      "metadata": {
        "id": "Si8TR47ihR-a"
      },
      "outputs": [],
      "source": [
        "model.compile(optimizer=\"rmsprop\",\n",
        "              loss=\"binary_crossentropy\",\n",
        "              metrics=[\"accuracy\"])"
      ]
    },
    {
      "cell_type": "markdown",
      "metadata": {
        "id": "Fk3wD6NPhgGV"
      },
      "source": [
        "### Listing 4.6 Setting aside a validation set"
      ]
    },
    {
      "cell_type": "code",
      "execution_count": 73,
      "metadata": {
        "id": "MP9UoMvchiTP"
      },
      "outputs": [],
      "source": [
        "x_val = x_train[:10000]\n",
        "partial_x_train = x_train[10000:]\n",
        "y_val = y_train[:10000]\n",
        "partial_y_train = y_train[10000:]"
      ]
    },
    {
      "cell_type": "markdown",
      "metadata": {
        "id": "Gn11EKXHhmuS"
      },
      "source": [
        "### Listing 4.7 Training your model"
      ]
    },
    {
      "cell_type": "code",
      "execution_count": 74,
      "metadata": {
        "id": "8i6bCVsZhpO0",
        "colab": {
          "base_uri": "https://localhost:8080/"
        },
        "outputId": "5d88c78a-3672-4595-e721-5278b72c555d"
      },
      "outputs": [
        {
          "output_type": "stream",
          "name": "stdout",
          "text": [
            "Epoch 1/200\n",
            "8/8 [==============================] - 4s 441ms/step - loss: 0.6909 - accuracy: 0.7313 - val_loss: 0.6885 - val_accuracy: 0.8213\n",
            "Epoch 2/200\n",
            "8/8 [==============================] - 1s 139ms/step - loss: 0.6873 - accuracy: 0.8196 - val_loss: 0.6855 - val_accuracy: 0.8213\n",
            "Epoch 3/200\n",
            "8/8 [==============================] - 1s 146ms/step - loss: 0.6844 - accuracy: 0.8196 - val_loss: 0.6828 - val_accuracy: 0.8213\n",
            "Epoch 4/200\n",
            "8/8 [==============================] - 1s 148ms/step - loss: 0.6818 - accuracy: 0.8196 - val_loss: 0.6803 - val_accuracy: 0.8213\n",
            "Epoch 5/200\n",
            "8/8 [==============================] - 2s 244ms/step - loss: 0.6794 - accuracy: 0.8196 - val_loss: 0.6778 - val_accuracy: 0.8213\n",
            "Epoch 6/200\n",
            "8/8 [==============================] - 1s 122ms/step - loss: 0.6769 - accuracy: 0.8196 - val_loss: 0.6753 - val_accuracy: 0.8213\n",
            "Epoch 7/200\n",
            "8/8 [==============================] - 1s 74ms/step - loss: 0.6744 - accuracy: 0.8196 - val_loss: 0.6728 - val_accuracy: 0.8213\n",
            "Epoch 8/200\n",
            "8/8 [==============================] - 1s 75ms/step - loss: 0.6720 - accuracy: 0.8196 - val_loss: 0.6704 - val_accuracy: 0.8213\n",
            "Epoch 9/200\n",
            "8/8 [==============================] - 1s 118ms/step - loss: 0.6696 - accuracy: 0.8196 - val_loss: 0.6681 - val_accuracy: 0.8213\n",
            "Epoch 10/200\n",
            "8/8 [==============================] - 1s 120ms/step - loss: 0.6673 - accuracy: 0.8196 - val_loss: 0.6657 - val_accuracy: 0.8213\n",
            "Epoch 11/200\n",
            "8/8 [==============================] - 1s 73ms/step - loss: 0.6649 - accuracy: 0.8196 - val_loss: 0.6633 - val_accuracy: 0.8213\n",
            "Epoch 12/200\n",
            "8/8 [==============================] - 1s 118ms/step - loss: 0.6625 - accuracy: 0.8196 - val_loss: 0.6610 - val_accuracy: 0.8213\n",
            "Epoch 13/200\n",
            "8/8 [==============================] - 1s 78ms/step - loss: 0.6602 - accuracy: 0.8196 - val_loss: 0.6586 - val_accuracy: 0.8213\n",
            "Epoch 14/200\n",
            "8/8 [==============================] - 1s 119ms/step - loss: 0.6579 - accuracy: 0.8196 - val_loss: 0.6563 - val_accuracy: 0.8213\n",
            "Epoch 15/200\n",
            "8/8 [==============================] - 1s 77ms/step - loss: 0.6556 - accuracy: 0.8196 - val_loss: 0.6540 - val_accuracy: 0.8213\n",
            "Epoch 16/200\n",
            "8/8 [==============================] - 1s 73ms/step - loss: 0.6534 - accuracy: 0.8196 - val_loss: 0.6517 - val_accuracy: 0.8213\n",
            "Epoch 17/200\n",
            "8/8 [==============================] - 1s 79ms/step - loss: 0.6511 - accuracy: 0.8196 - val_loss: 0.6495 - val_accuracy: 0.8213\n",
            "Epoch 18/200\n",
            "8/8 [==============================] - 1s 118ms/step - loss: 0.6489 - accuracy: 0.8196 - val_loss: 0.6472 - val_accuracy: 0.8213\n",
            "Epoch 19/200\n",
            "8/8 [==============================] - 1s 118ms/step - loss: 0.6466 - accuracy: 0.8196 - val_loss: 0.6450 - val_accuracy: 0.8213\n",
            "Epoch 20/200\n",
            "8/8 [==============================] - 1s 74ms/step - loss: 0.6444 - accuracy: 0.8196 - val_loss: 0.6428 - val_accuracy: 0.8213\n",
            "Epoch 21/200\n",
            "8/8 [==============================] - 1s 123ms/step - loss: 0.6422 - accuracy: 0.8196 - val_loss: 0.6406 - val_accuracy: 0.8213\n",
            "Epoch 22/200\n",
            "8/8 [==============================] - 1s 141ms/step - loss: 0.6400 - accuracy: 0.8196 - val_loss: 0.6384 - val_accuracy: 0.8213\n",
            "Epoch 23/200\n",
            "8/8 [==============================] - 1s 133ms/step - loss: 0.6378 - accuracy: 0.8196 - val_loss: 0.6362 - val_accuracy: 0.8213\n",
            "Epoch 24/200\n",
            "8/8 [==============================] - 1s 121ms/step - loss: 0.6357 - accuracy: 0.8196 - val_loss: 0.6340 - val_accuracy: 0.8213\n",
            "Epoch 25/200\n",
            "8/8 [==============================] - 1s 81ms/step - loss: 0.6335 - accuracy: 0.8196 - val_loss: 0.6319 - val_accuracy: 0.8213\n",
            "Epoch 26/200\n",
            "8/8 [==============================] - 1s 74ms/step - loss: 0.6314 - accuracy: 0.8196 - val_loss: 0.6298 - val_accuracy: 0.8213\n",
            "Epoch 27/200\n",
            "8/8 [==============================] - 1s 74ms/step - loss: 0.6293 - accuracy: 0.8196 - val_loss: 0.6277 - val_accuracy: 0.8213\n",
            "Epoch 28/200\n",
            "8/8 [==============================] - 1s 76ms/step - loss: 0.6272 - accuracy: 0.8196 - val_loss: 0.6256 - val_accuracy: 0.8213\n",
            "Epoch 29/200\n",
            "8/8 [==============================] - 1s 72ms/step - loss: 0.6251 - accuracy: 0.8196 - val_loss: 0.6235 - val_accuracy: 0.8213\n",
            "Epoch 30/200\n",
            "8/8 [==============================] - 1s 78ms/step - loss: 0.6231 - accuracy: 0.8196 - val_loss: 0.6214 - val_accuracy: 0.8213\n",
            "Epoch 31/200\n",
            "8/8 [==============================] - 1s 75ms/step - loss: 0.6210 - accuracy: 0.8196 - val_loss: 0.6194 - val_accuracy: 0.8213\n",
            "Epoch 32/200\n",
            "8/8 [==============================] - 1s 71ms/step - loss: 0.6190 - accuracy: 0.8196 - val_loss: 0.6174 - val_accuracy: 0.8213\n",
            "Epoch 33/200\n",
            "8/8 [==============================] - 1s 81ms/step - loss: 0.6170 - accuracy: 0.8196 - val_loss: 0.6153 - val_accuracy: 0.8213\n",
            "Epoch 34/200\n",
            "8/8 [==============================] - 1s 74ms/step - loss: 0.6150 - accuracy: 0.8196 - val_loss: 0.6133 - val_accuracy: 0.8213\n",
            "Epoch 35/200\n",
            "8/8 [==============================] - 1s 121ms/step - loss: 0.6130 - accuracy: 0.8196 - val_loss: 0.6114 - val_accuracy: 0.8213\n",
            "Epoch 36/200\n",
            "8/8 [==============================] - 1s 120ms/step - loss: 0.6111 - accuracy: 0.8196 - val_loss: 0.6094 - val_accuracy: 0.8213\n",
            "Epoch 37/200\n",
            "8/8 [==============================] - 1s 72ms/step - loss: 0.6091 - accuracy: 0.8196 - val_loss: 0.6075 - val_accuracy: 0.8213\n",
            "Epoch 38/200\n",
            "8/8 [==============================] - 1s 120ms/step - loss: 0.6072 - accuracy: 0.8196 - val_loss: 0.6056 - val_accuracy: 0.8213\n",
            "Epoch 39/200\n",
            "8/8 [==============================] - 1s 124ms/step - loss: 0.6053 - accuracy: 0.8196 - val_loss: 0.6036 - val_accuracy: 0.8213\n",
            "Epoch 40/200\n",
            "8/8 [==============================] - 1s 136ms/step - loss: 0.6034 - accuracy: 0.8196 - val_loss: 0.6017 - val_accuracy: 0.8213\n",
            "Epoch 41/200\n",
            "8/8 [==============================] - 1s 137ms/step - loss: 0.6015 - accuracy: 0.8196 - val_loss: 0.5998 - val_accuracy: 0.8213\n",
            "Epoch 42/200\n",
            "8/8 [==============================] - 1s 76ms/step - loss: 0.5996 - accuracy: 0.8196 - val_loss: 0.5979 - val_accuracy: 0.8213\n",
            "Epoch 43/200\n",
            "8/8 [==============================] - 1s 120ms/step - loss: 0.5977 - accuracy: 0.8196 - val_loss: 0.5960 - val_accuracy: 0.8213\n",
            "Epoch 44/200\n",
            "8/8 [==============================] - 1s 75ms/step - loss: 0.5959 - accuracy: 0.8196 - val_loss: 0.5942 - val_accuracy: 0.8213\n",
            "Epoch 45/200\n",
            "8/8 [==============================] - 1s 121ms/step - loss: 0.5941 - accuracy: 0.8196 - val_loss: 0.5923 - val_accuracy: 0.8213\n",
            "Epoch 46/200\n",
            "8/8 [==============================] - 1s 78ms/step - loss: 0.5923 - accuracy: 0.8196 - val_loss: 0.5905 - val_accuracy: 0.8213\n",
            "Epoch 47/200\n",
            "8/8 [==============================] - 1s 73ms/step - loss: 0.5905 - accuracy: 0.8196 - val_loss: 0.5887 - val_accuracy: 0.8213\n",
            "Epoch 48/200\n",
            "8/8 [==============================] - 1s 123ms/step - loss: 0.5887 - accuracy: 0.8196 - val_loss: 0.5869 - val_accuracy: 0.8213\n",
            "Epoch 49/200\n",
            "8/8 [==============================] - 1s 80ms/step - loss: 0.5869 - accuracy: 0.8196 - val_loss: 0.5852 - val_accuracy: 0.8213\n",
            "Epoch 50/200\n",
            "8/8 [==============================] - 1s 120ms/step - loss: 0.5852 - accuracy: 0.8196 - val_loss: 0.5834 - val_accuracy: 0.8213\n",
            "Epoch 51/200\n",
            "8/8 [==============================] - 1s 119ms/step - loss: 0.5834 - accuracy: 0.8196 - val_loss: 0.5817 - val_accuracy: 0.8213\n",
            "Epoch 52/200\n",
            "8/8 [==============================] - 1s 120ms/step - loss: 0.5817 - accuracy: 0.8196 - val_loss: 0.5799 - val_accuracy: 0.8213\n",
            "Epoch 53/200\n",
            "8/8 [==============================] - 1s 78ms/step - loss: 0.5800 - accuracy: 0.8196 - val_loss: 0.5782 - val_accuracy: 0.8213\n",
            "Epoch 54/200\n",
            "8/8 [==============================] - 1s 79ms/step - loss: 0.5783 - accuracy: 0.8196 - val_loss: 0.5765 - val_accuracy: 0.8213\n",
            "Epoch 55/200\n",
            "8/8 [==============================] - 1s 121ms/step - loss: 0.5766 - accuracy: 0.8196 - val_loss: 0.5748 - val_accuracy: 0.8213\n",
            "Epoch 56/200\n",
            "8/8 [==============================] - 1s 134ms/step - loss: 0.5749 - accuracy: 0.8196 - val_loss: 0.5732 - val_accuracy: 0.8213\n",
            "Epoch 57/200\n",
            "8/8 [==============================] - 1s 119ms/step - loss: 0.5733 - accuracy: 0.8196 - val_loss: 0.5715 - val_accuracy: 0.8213\n",
            "Epoch 58/200\n",
            "8/8 [==============================] - 1s 89ms/step - loss: 0.5717 - accuracy: 0.8196 - val_loss: 0.5699 - val_accuracy: 0.8213\n",
            "Epoch 59/200\n",
            "8/8 [==============================] - 1s 72ms/step - loss: 0.5701 - accuracy: 0.8196 - val_loss: 0.5683 - val_accuracy: 0.8213\n",
            "Epoch 60/200\n",
            "8/8 [==============================] - 1s 77ms/step - loss: 0.5685 - accuracy: 0.8196 - val_loss: 0.5668 - val_accuracy: 0.8213\n",
            "Epoch 61/200\n",
            "8/8 [==============================] - 1s 74ms/step - loss: 0.5670 - accuracy: 0.8196 - val_loss: 0.5651 - val_accuracy: 0.8213\n",
            "Epoch 62/200\n",
            "8/8 [==============================] - 1s 76ms/step - loss: 0.5654 - accuracy: 0.8196 - val_loss: 0.5636 - val_accuracy: 0.8213\n",
            "Epoch 63/200\n",
            "8/8 [==============================] - 1s 74ms/step - loss: 0.5638 - accuracy: 0.8196 - val_loss: 0.5620 - val_accuracy: 0.8213\n",
            "Epoch 64/200\n",
            "8/8 [==============================] - 1s 74ms/step - loss: 0.5623 - accuracy: 0.8196 - val_loss: 0.5604 - val_accuracy: 0.8213\n",
            "Epoch 65/200\n",
            "8/8 [==============================] - 1s 119ms/step - loss: 0.5607 - accuracy: 0.8196 - val_loss: 0.5589 - val_accuracy: 0.8213\n",
            "Epoch 66/200\n",
            "8/8 [==============================] - 1s 74ms/step - loss: 0.5592 - accuracy: 0.8196 - val_loss: 0.5574 - val_accuracy: 0.8213\n",
            "Epoch 67/200\n",
            "8/8 [==============================] - 1s 74ms/step - loss: 0.5577 - accuracy: 0.8196 - val_loss: 0.5559 - val_accuracy: 0.8213\n",
            "Epoch 68/200\n",
            "8/8 [==============================] - 1s 74ms/step - loss: 0.5562 - accuracy: 0.8196 - val_loss: 0.5544 - val_accuracy: 0.8213\n",
            "Epoch 69/200\n",
            "8/8 [==============================] - 1s 120ms/step - loss: 0.5548 - accuracy: 0.8196 - val_loss: 0.5530 - val_accuracy: 0.8213\n",
            "Epoch 70/200\n",
            "8/8 [==============================] - 1s 78ms/step - loss: 0.5533 - accuracy: 0.8196 - val_loss: 0.5515 - val_accuracy: 0.8213\n",
            "Epoch 71/200\n",
            "8/8 [==============================] - 1s 121ms/step - loss: 0.5519 - accuracy: 0.8196 - val_loss: 0.5501 - val_accuracy: 0.8213\n",
            "Epoch 72/200\n",
            "8/8 [==============================] - 1s 74ms/step - loss: 0.5505 - accuracy: 0.8196 - val_loss: 0.5486 - val_accuracy: 0.8213\n",
            "Epoch 73/200\n",
            "8/8 [==============================] - 1s 124ms/step - loss: 0.5490 - accuracy: 0.8196 - val_loss: 0.5472 - val_accuracy: 0.8213\n",
            "Epoch 74/200\n",
            "8/8 [==============================] - 1s 132ms/step - loss: 0.5477 - accuracy: 0.8196 - val_loss: 0.5458 - val_accuracy: 0.8213\n",
            "Epoch 75/200\n",
            "8/8 [==============================] - 1s 132ms/step - loss: 0.5463 - accuracy: 0.8196 - val_loss: 0.5444 - val_accuracy: 0.8213\n",
            "Epoch 76/200\n",
            "8/8 [==============================] - 1s 135ms/step - loss: 0.5449 - accuracy: 0.8196 - val_loss: 0.5430 - val_accuracy: 0.8213\n",
            "Epoch 77/200\n",
            "8/8 [==============================] - 1s 75ms/step - loss: 0.5435 - accuracy: 0.8196 - val_loss: 0.5417 - val_accuracy: 0.8213\n",
            "Epoch 78/200\n",
            "8/8 [==============================] - 1s 77ms/step - loss: 0.5422 - accuracy: 0.8196 - val_loss: 0.5403 - val_accuracy: 0.8213\n",
            "Epoch 79/200\n",
            "8/8 [==============================] - 1s 77ms/step - loss: 0.5409 - accuracy: 0.8196 - val_loss: 0.5390 - val_accuracy: 0.8213\n",
            "Epoch 80/200\n",
            "8/8 [==============================] - 1s 74ms/step - loss: 0.5396 - accuracy: 0.8196 - val_loss: 0.5377 - val_accuracy: 0.8213\n",
            "Epoch 81/200\n",
            "8/8 [==============================] - 1s 76ms/step - loss: 0.5383 - accuracy: 0.8196 - val_loss: 0.5363 - val_accuracy: 0.8213\n",
            "Epoch 82/200\n",
            "8/8 [==============================] - 1s 74ms/step - loss: 0.5370 - accuracy: 0.8196 - val_loss: 0.5351 - val_accuracy: 0.8213\n",
            "Epoch 83/200\n",
            "8/8 [==============================] - 1s 72ms/step - loss: 0.5357 - accuracy: 0.8196 - val_loss: 0.5338 - val_accuracy: 0.8213\n",
            "Epoch 84/200\n",
            "8/8 [==============================] - 1s 120ms/step - loss: 0.5345 - accuracy: 0.8196 - val_loss: 0.5326 - val_accuracy: 0.8213\n",
            "Epoch 85/200\n",
            "8/8 [==============================] - 1s 120ms/step - loss: 0.5333 - accuracy: 0.8196 - val_loss: 0.5313 - val_accuracy: 0.8213\n",
            "Epoch 86/200\n",
            "8/8 [==============================] - 1s 119ms/step - loss: 0.5320 - accuracy: 0.8196 - val_loss: 0.5301 - val_accuracy: 0.8213\n",
            "Epoch 87/200\n",
            "8/8 [==============================] - 1s 76ms/step - loss: 0.5308 - accuracy: 0.8196 - val_loss: 0.5289 - val_accuracy: 0.8213\n",
            "Epoch 88/200\n",
            "8/8 [==============================] - 1s 75ms/step - loss: 0.5296 - accuracy: 0.8196 - val_loss: 0.5277 - val_accuracy: 0.8213\n",
            "Epoch 89/200\n",
            "8/8 [==============================] - 1s 68ms/step - loss: 0.5284 - accuracy: 0.8196 - val_loss: 0.5265 - val_accuracy: 0.8213\n",
            "Epoch 90/200\n",
            "8/8 [==============================] - 1s 120ms/step - loss: 0.5273 - accuracy: 0.8196 - val_loss: 0.5253 - val_accuracy: 0.8213\n",
            "Epoch 91/200\n",
            "8/8 [==============================] - 1s 75ms/step - loss: 0.5261 - accuracy: 0.8196 - val_loss: 0.5242 - val_accuracy: 0.8213\n",
            "Epoch 92/200\n",
            "8/8 [==============================] - 1s 102ms/step - loss: 0.5250 - accuracy: 0.8196 - val_loss: 0.5230 - val_accuracy: 0.8213\n",
            "Epoch 93/200\n",
            "8/8 [==============================] - 1s 134ms/step - loss: 0.5239 - accuracy: 0.8196 - val_loss: 0.5219 - val_accuracy: 0.8213\n",
            "Epoch 94/200\n",
            "8/8 [==============================] - 1s 135ms/step - loss: 0.5227 - accuracy: 0.8196 - val_loss: 0.5208 - val_accuracy: 0.8213\n",
            "Epoch 95/200\n",
            "8/8 [==============================] - 1s 77ms/step - loss: 0.5216 - accuracy: 0.8196 - val_loss: 0.5197 - val_accuracy: 0.8213\n",
            "Epoch 96/200\n",
            "8/8 [==============================] - 1s 148ms/step - loss: 0.5206 - accuracy: 0.8196 - val_loss: 0.5186 - val_accuracy: 0.8213\n",
            "Epoch 97/200\n",
            "8/8 [==============================] - 1s 119ms/step - loss: 0.5195 - accuracy: 0.8196 - val_loss: 0.5175 - val_accuracy: 0.8213\n",
            "Epoch 98/200\n",
            "8/8 [==============================] - 1s 85ms/step - loss: 0.5184 - accuracy: 0.8196 - val_loss: 0.5164 - val_accuracy: 0.8213\n",
            "Epoch 99/200\n",
            "8/8 [==============================] - 1s 77ms/step - loss: 0.5174 - accuracy: 0.8196 - val_loss: 0.5154 - val_accuracy: 0.8213\n",
            "Epoch 100/200\n",
            "8/8 [==============================] - 1s 77ms/step - loss: 0.5164 - accuracy: 0.8196 - val_loss: 0.5144 - val_accuracy: 0.8213\n",
            "Epoch 101/200\n",
            "8/8 [==============================] - 1s 76ms/step - loss: 0.5154 - accuracy: 0.8196 - val_loss: 0.5134 - val_accuracy: 0.8213\n",
            "Epoch 102/200\n",
            "8/8 [==============================] - 1s 120ms/step - loss: 0.5144 - accuracy: 0.8196 - val_loss: 0.5124 - val_accuracy: 0.8213\n",
            "Epoch 103/200\n",
            "8/8 [==============================] - 1s 77ms/step - loss: 0.5134 - accuracy: 0.8196 - val_loss: 0.5113 - val_accuracy: 0.8213\n",
            "Epoch 104/200\n",
            "8/8 [==============================] - 1s 76ms/step - loss: 0.5124 - accuracy: 0.8196 - val_loss: 0.5104 - val_accuracy: 0.8213\n",
            "Epoch 105/200\n",
            "8/8 [==============================] - 1s 74ms/step - loss: 0.5114 - accuracy: 0.8196 - val_loss: 0.5094 - val_accuracy: 0.8213\n",
            "Epoch 106/200\n",
            "8/8 [==============================] - 1s 73ms/step - loss: 0.5105 - accuracy: 0.8196 - val_loss: 0.5084 - val_accuracy: 0.8213\n",
            "Epoch 107/200\n",
            "8/8 [==============================] - 1s 75ms/step - loss: 0.5095 - accuracy: 0.8196 - val_loss: 0.5075 - val_accuracy: 0.8213\n",
            "Epoch 108/200\n",
            "8/8 [==============================] - 1s 123ms/step - loss: 0.5086 - accuracy: 0.8196 - val_loss: 0.5065 - val_accuracy: 0.8213\n",
            "Epoch 109/200\n",
            "8/8 [==============================] - 1s 77ms/step - loss: 0.5077 - accuracy: 0.8196 - val_loss: 0.5056 - val_accuracy: 0.8213\n",
            "Epoch 110/200\n",
            "8/8 [==============================] - 1s 135ms/step - loss: 0.5068 - accuracy: 0.8196 - val_loss: 0.5047 - val_accuracy: 0.8213\n",
            "Epoch 111/200\n",
            "8/8 [==============================] - 1s 134ms/step - loss: 0.5059 - accuracy: 0.8196 - val_loss: 0.5038 - val_accuracy: 0.8213\n",
            "Epoch 112/200\n",
            "8/8 [==============================] - 1s 131ms/step - loss: 0.5050 - accuracy: 0.8196 - val_loss: 0.5029 - val_accuracy: 0.8213\n",
            "Epoch 113/200\n",
            "8/8 [==============================] - 1s 81ms/step - loss: 0.5041 - accuracy: 0.8196 - val_loss: 0.5020 - val_accuracy: 0.8213\n",
            "Epoch 114/200\n",
            "8/8 [==============================] - 1s 72ms/step - loss: 0.5033 - accuracy: 0.8196 - val_loss: 0.5011 - val_accuracy: 0.8213\n",
            "Epoch 115/200\n",
            "8/8 [==============================] - 1s 121ms/step - loss: 0.5024 - accuracy: 0.8196 - val_loss: 0.5004 - val_accuracy: 0.8213\n",
            "Epoch 116/200\n",
            "8/8 [==============================] - 1s 73ms/step - loss: 0.5016 - accuracy: 0.8196 - val_loss: 0.4996 - val_accuracy: 0.8213\n",
            "Epoch 117/200\n",
            "8/8 [==============================] - 1s 119ms/step - loss: 0.5008 - accuracy: 0.8196 - val_loss: 0.4987 - val_accuracy: 0.8213\n",
            "Epoch 118/200\n",
            "8/8 [==============================] - 1s 81ms/step - loss: 0.5000 - accuracy: 0.8196 - val_loss: 0.4979 - val_accuracy: 0.8213\n",
            "Epoch 119/200\n",
            "8/8 [==============================] - 1s 78ms/step - loss: 0.4992 - accuracy: 0.8196 - val_loss: 0.4971 - val_accuracy: 0.8213\n",
            "Epoch 120/200\n",
            "8/8 [==============================] - 1s 72ms/step - loss: 0.4985 - accuracy: 0.8196 - val_loss: 0.4964 - val_accuracy: 0.8213\n",
            "Epoch 121/200\n",
            "8/8 [==============================] - 1s 78ms/step - loss: 0.4977 - accuracy: 0.8196 - val_loss: 0.4956 - val_accuracy: 0.8213\n",
            "Epoch 122/200\n",
            "8/8 [==============================] - 1s 74ms/step - loss: 0.4970 - accuracy: 0.8196 - val_loss: 0.4948 - val_accuracy: 0.8213\n",
            "Epoch 123/200\n",
            "8/8 [==============================] - 1s 76ms/step - loss: 0.4962 - accuracy: 0.8196 - val_loss: 0.4941 - val_accuracy: 0.8213\n",
            "Epoch 124/200\n",
            "8/8 [==============================] - 1s 121ms/step - loss: 0.4955 - accuracy: 0.8196 - val_loss: 0.4933 - val_accuracy: 0.8213\n",
            "Epoch 125/200\n",
            "8/8 [==============================] - 1s 80ms/step - loss: 0.4948 - accuracy: 0.8196 - val_loss: 0.4927 - val_accuracy: 0.8213\n",
            "Epoch 126/200\n",
            "8/8 [==============================] - 1s 74ms/step - loss: 0.4941 - accuracy: 0.8196 - val_loss: 0.4920 - val_accuracy: 0.8213\n",
            "Epoch 127/200\n",
            "8/8 [==============================] - 1s 79ms/step - loss: 0.4934 - accuracy: 0.8196 - val_loss: 0.4913 - val_accuracy: 0.8213\n",
            "Epoch 128/200\n",
            "8/8 [==============================] - 1s 121ms/step - loss: 0.4928 - accuracy: 0.8196 - val_loss: 0.4906 - val_accuracy: 0.8213\n",
            "Epoch 129/200\n",
            "8/8 [==============================] - 1s 135ms/step - loss: 0.4921 - accuracy: 0.8196 - val_loss: 0.4900 - val_accuracy: 0.8213\n",
            "Epoch 130/200\n",
            "8/8 [==============================] - 1s 134ms/step - loss: 0.4915 - accuracy: 0.8196 - val_loss: 0.4893 - val_accuracy: 0.8213\n",
            "Epoch 131/200\n",
            "8/8 [==============================] - 1s 122ms/step - loss: 0.4908 - accuracy: 0.8196 - val_loss: 0.4886 - val_accuracy: 0.8213\n",
            "Epoch 132/200\n",
            "8/8 [==============================] - 1s 73ms/step - loss: 0.4902 - accuracy: 0.8196 - val_loss: 0.4880 - val_accuracy: 0.8213\n",
            "Epoch 133/200\n",
            "8/8 [==============================] - 1s 119ms/step - loss: 0.4896 - accuracy: 0.8196 - val_loss: 0.4874 - val_accuracy: 0.8213\n",
            "Epoch 134/200\n",
            "8/8 [==============================] - 1s 79ms/step - loss: 0.4890 - accuracy: 0.8196 - val_loss: 0.4868 - val_accuracy: 0.8213\n",
            "Epoch 135/200\n",
            "8/8 [==============================] - 1s 121ms/step - loss: 0.4884 - accuracy: 0.8196 - val_loss: 0.4862 - val_accuracy: 0.8213\n",
            "Epoch 136/200\n",
            "8/8 [==============================] - 1s 79ms/step - loss: 0.4878 - accuracy: 0.8196 - val_loss: 0.4856 - val_accuracy: 0.8213\n",
            "Epoch 137/200\n",
            "8/8 [==============================] - 1s 120ms/step - loss: 0.4873 - accuracy: 0.8196 - val_loss: 0.4851 - val_accuracy: 0.8213\n",
            "Epoch 138/200\n",
            "8/8 [==============================] - 1s 75ms/step - loss: 0.4868 - accuracy: 0.8196 - val_loss: 0.4845 - val_accuracy: 0.8213\n",
            "Epoch 139/200\n",
            "8/8 [==============================] - 1s 77ms/step - loss: 0.4862 - accuracy: 0.8196 - val_loss: 0.4840 - val_accuracy: 0.8213\n",
            "Epoch 140/200\n",
            "8/8 [==============================] - 1s 120ms/step - loss: 0.4857 - accuracy: 0.8196 - val_loss: 0.4834 - val_accuracy: 0.8213\n",
            "Epoch 141/200\n",
            "8/8 [==============================] - 1s 74ms/step - loss: 0.4852 - accuracy: 0.8196 - val_loss: 0.4830 - val_accuracy: 0.8213\n",
            "Epoch 142/200\n",
            "8/8 [==============================] - 1s 122ms/step - loss: 0.4847 - accuracy: 0.8196 - val_loss: 0.4825 - val_accuracy: 0.8213\n",
            "Epoch 143/200\n",
            "8/8 [==============================] - 1s 120ms/step - loss: 0.4842 - accuracy: 0.8196 - val_loss: 0.4820 - val_accuracy: 0.8213\n",
            "Epoch 144/200\n",
            "8/8 [==============================] - 1s 96ms/step - loss: 0.4837 - accuracy: 0.8196 - val_loss: 0.4814 - val_accuracy: 0.8213\n",
            "Epoch 145/200\n",
            "8/8 [==============================] - 1s 137ms/step - loss: 0.4832 - accuracy: 0.8196 - val_loss: 0.4810 - val_accuracy: 0.8213\n",
            "Epoch 146/200\n",
            "8/8 [==============================] - 1s 132ms/step - loss: 0.4828 - accuracy: 0.8196 - val_loss: 0.4805 - val_accuracy: 0.8213\n",
            "Epoch 147/200\n",
            "8/8 [==============================] - 1s 81ms/step - loss: 0.4824 - accuracy: 0.8196 - val_loss: 0.4801 - val_accuracy: 0.8213\n",
            "Epoch 148/200\n",
            "8/8 [==============================] - 1s 120ms/step - loss: 0.4819 - accuracy: 0.8196 - val_loss: 0.4796 - val_accuracy: 0.8213\n",
            "Epoch 149/200\n",
            "8/8 [==============================] - 1s 75ms/step - loss: 0.4815 - accuracy: 0.8196 - val_loss: 0.4792 - val_accuracy: 0.8213\n",
            "Epoch 150/200\n",
            "8/8 [==============================] - 1s 79ms/step - loss: 0.4811 - accuracy: 0.8196 - val_loss: 0.4788 - val_accuracy: 0.8213\n",
            "Epoch 151/200\n",
            "8/8 [==============================] - 1s 111ms/step - loss: 0.4807 - accuracy: 0.8196 - val_loss: 0.4784 - val_accuracy: 0.8213\n",
            "Epoch 152/200\n",
            "8/8 [==============================] - 1s 123ms/step - loss: 0.4803 - accuracy: 0.8196 - val_loss: 0.4780 - val_accuracy: 0.8213\n",
            "Epoch 153/200\n",
            "8/8 [==============================] - 1s 73ms/step - loss: 0.4799 - accuracy: 0.8196 - val_loss: 0.4776 - val_accuracy: 0.8213\n",
            "Epoch 154/200\n",
            "8/8 [==============================] - 1s 71ms/step - loss: 0.4795 - accuracy: 0.8196 - val_loss: 0.4772 - val_accuracy: 0.8213\n",
            "Epoch 155/200\n",
            "8/8 [==============================] - 1s 119ms/step - loss: 0.4792 - accuracy: 0.8196 - val_loss: 0.4768 - val_accuracy: 0.8213\n",
            "Epoch 156/200\n",
            "8/8 [==============================] - 1s 76ms/step - loss: 0.4788 - accuracy: 0.8196 - val_loss: 0.4765 - val_accuracy: 0.8213\n",
            "Epoch 157/200\n",
            "8/8 [==============================] - 1s 76ms/step - loss: 0.4785 - accuracy: 0.8196 - val_loss: 0.4761 - val_accuracy: 0.8213\n",
            "Epoch 158/200\n",
            "8/8 [==============================] - 1s 79ms/step - loss: 0.4781 - accuracy: 0.8196 - val_loss: 0.4758 - val_accuracy: 0.8213\n",
            "Epoch 159/200\n",
            "8/8 [==============================] - 1s 76ms/step - loss: 0.4778 - accuracy: 0.8196 - val_loss: 0.4755 - val_accuracy: 0.8213\n",
            "Epoch 160/200\n",
            "8/8 [==============================] - 1s 80ms/step - loss: 0.4775 - accuracy: 0.8196 - val_loss: 0.4751 - val_accuracy: 0.8213\n",
            "Epoch 161/200\n",
            "8/8 [==============================] - 1s 71ms/step - loss: 0.4772 - accuracy: 0.8196 - val_loss: 0.4748 - val_accuracy: 0.8213\n",
            "Epoch 162/200\n",
            "8/8 [==============================] - 1s 121ms/step - loss: 0.4769 - accuracy: 0.8196 - val_loss: 0.4745 - val_accuracy: 0.8213\n",
            "Epoch 163/200\n",
            "8/8 [==============================] - 1s 133ms/step - loss: 0.4766 - accuracy: 0.8196 - val_loss: 0.4742 - val_accuracy: 0.8213\n",
            "Epoch 164/200\n",
            "8/8 [==============================] - 1s 137ms/step - loss: 0.4763 - accuracy: 0.8196 - val_loss: 0.4739 - val_accuracy: 0.8213\n",
            "Epoch 165/200\n",
            "8/8 [==============================] - 1s 71ms/step - loss: 0.4761 - accuracy: 0.8196 - val_loss: 0.4737 - val_accuracy: 0.8213\n",
            "Epoch 166/200\n",
            "8/8 [==============================] - 1s 121ms/step - loss: 0.4758 - accuracy: 0.8196 - val_loss: 0.4734 - val_accuracy: 0.8213\n",
            "Epoch 167/200\n",
            "8/8 [==============================] - 1s 123ms/step - loss: 0.4756 - accuracy: 0.8196 - val_loss: 0.4732 - val_accuracy: 0.8213\n",
            "Epoch 168/200\n",
            "8/8 [==============================] - 1s 78ms/step - loss: 0.4754 - accuracy: 0.8196 - val_loss: 0.4730 - val_accuracy: 0.8213\n",
            "Epoch 169/200\n",
            "8/8 [==============================] - 1s 71ms/step - loss: 0.4751 - accuracy: 0.8196 - val_loss: 0.4727 - val_accuracy: 0.8213\n",
            "Epoch 170/200\n",
            "8/8 [==============================] - 1s 123ms/step - loss: 0.4750 - accuracy: 0.8196 - val_loss: 0.4725 - val_accuracy: 0.8213\n",
            "Epoch 171/200\n",
            "8/8 [==============================] - 1s 81ms/step - loss: 0.4747 - accuracy: 0.8196 - val_loss: 0.4723 - val_accuracy: 0.8213\n",
            "Epoch 172/200\n",
            "8/8 [==============================] - 1s 121ms/step - loss: 0.4745 - accuracy: 0.8196 - val_loss: 0.4721 - val_accuracy: 0.8213\n",
            "Epoch 173/200\n",
            "8/8 [==============================] - 1s 75ms/step - loss: 0.4744 - accuracy: 0.8196 - val_loss: 0.4719 - val_accuracy: 0.8213\n",
            "Epoch 174/200\n",
            "8/8 [==============================] - 1s 122ms/step - loss: 0.4742 - accuracy: 0.8196 - val_loss: 0.4717 - val_accuracy: 0.8213\n",
            "Epoch 175/200\n",
            "8/8 [==============================] - 1s 74ms/step - loss: 0.4740 - accuracy: 0.8196 - val_loss: 0.4716 - val_accuracy: 0.8213\n",
            "Epoch 176/200\n",
            "8/8 [==============================] - 1s 81ms/step - loss: 0.4739 - accuracy: 0.8196 - val_loss: 0.4714 - val_accuracy: 0.8213\n",
            "Epoch 177/200\n",
            "8/8 [==============================] - 1s 75ms/step - loss: 0.4737 - accuracy: 0.8196 - val_loss: 0.4713 - val_accuracy: 0.8213\n",
            "Epoch 178/200\n",
            "8/8 [==============================] - 1s 76ms/step - loss: 0.4736 - accuracy: 0.8196 - val_loss: 0.4711 - val_accuracy: 0.8213\n",
            "Epoch 179/200\n",
            "8/8 [==============================] - 1s 120ms/step - loss: 0.4735 - accuracy: 0.8196 - val_loss: 0.4710 - val_accuracy: 0.8213\n",
            "Epoch 180/200\n",
            "8/8 [==============================] - 1s 132ms/step - loss: 0.4733 - accuracy: 0.8196 - val_loss: 0.4708 - val_accuracy: 0.8213\n",
            "Epoch 181/200\n",
            "8/8 [==============================] - 1s 112ms/step - loss: 0.4732 - accuracy: 0.8196 - val_loss: 0.4707 - val_accuracy: 0.8213\n",
            "Epoch 182/200\n",
            "8/8 [==============================] - 1s 136ms/step - loss: 0.4731 - accuracy: 0.8196 - val_loss: 0.4706 - val_accuracy: 0.8213\n",
            "Epoch 183/200\n",
            "8/8 [==============================] - 1s 72ms/step - loss: 0.4730 - accuracy: 0.8196 - val_loss: 0.4705 - val_accuracy: 0.8213\n",
            "Epoch 184/200\n",
            "8/8 [==============================] - 1s 124ms/step - loss: 0.4729 - accuracy: 0.8196 - val_loss: 0.4704 - val_accuracy: 0.8213\n",
            "Epoch 185/200\n",
            "8/8 [==============================] - 1s 120ms/step - loss: 0.4728 - accuracy: 0.8196 - val_loss: 0.4703 - val_accuracy: 0.8213\n",
            "Epoch 186/200\n",
            "8/8 [==============================] - 1s 120ms/step - loss: 0.4728 - accuracy: 0.8196 - val_loss: 0.4702 - val_accuracy: 0.8213\n",
            "Epoch 187/200\n",
            "8/8 [==============================] - 1s 119ms/step - loss: 0.4727 - accuracy: 0.8196 - val_loss: 0.4702 - val_accuracy: 0.8213\n",
            "Epoch 188/200\n",
            "8/8 [==============================] - 1s 122ms/step - loss: 0.4726 - accuracy: 0.8196 - val_loss: 0.4701 - val_accuracy: 0.8213\n",
            "Epoch 189/200\n",
            "8/8 [==============================] - 1s 122ms/step - loss: 0.4726 - accuracy: 0.8196 - val_loss: 0.4700 - val_accuracy: 0.8213\n",
            "Epoch 190/200\n",
            "8/8 [==============================] - 1s 75ms/step - loss: 0.4725 - accuracy: 0.8196 - val_loss: 0.4700 - val_accuracy: 0.8213\n",
            "Epoch 191/200\n",
            "8/8 [==============================] - 1s 77ms/step - loss: 0.4725 - accuracy: 0.8196 - val_loss: 0.4699 - val_accuracy: 0.8213\n",
            "Epoch 192/200\n",
            "8/8 [==============================] - 1s 77ms/step - loss: 0.4724 - accuracy: 0.8196 - val_loss: 0.4698 - val_accuracy: 0.8213\n",
            "Epoch 193/200\n",
            "8/8 [==============================] - 1s 81ms/step - loss: 0.4724 - accuracy: 0.8196 - val_loss: 0.4698 - val_accuracy: 0.8213\n",
            "Epoch 194/200\n",
            "8/8 [==============================] - 1s 75ms/step - loss: 0.4723 - accuracy: 0.8196 - val_loss: 0.4698 - val_accuracy: 0.8213\n",
            "Epoch 195/200\n",
            "8/8 [==============================] - 1s 123ms/step - loss: 0.4723 - accuracy: 0.8196 - val_loss: 0.4697 - val_accuracy: 0.8213\n",
            "Epoch 196/200\n",
            "8/8 [==============================] - 1s 134ms/step - loss: 0.4723 - accuracy: 0.8196 - val_loss: 0.4697 - val_accuracy: 0.8213\n",
            "Epoch 197/200\n",
            "8/8 [==============================] - 1s 131ms/step - loss: 0.4722 - accuracy: 0.8196 - val_loss: 0.4697 - val_accuracy: 0.8213\n",
            "Epoch 198/200\n",
            "8/8 [==============================] - 1s 90ms/step - loss: 0.4722 - accuracy: 0.8196 - val_loss: 0.4696 - val_accuracy: 0.8213\n",
            "Epoch 199/200\n",
            "8/8 [==============================] - 1s 80ms/step - loss: 0.4722 - accuracy: 0.8196 - val_loss: 0.4696 - val_accuracy: 0.8213\n",
            "Epoch 200/200\n",
            "8/8 [==============================] - 1s 117ms/step - loss: 0.4722 - accuracy: 0.8196 - val_loss: 0.4696 - val_accuracy: 0.8213\n"
          ]
        }
      ],
      "source": [
        "history = model.fit(partial_x_train,\n",
        "                    partial_y_train,\n",
        "                    epochs=200,\n",
        "                    batch_size=512,\n",
        "                    validation_data=(x_val, y_val))"
      ]
    },
    {
      "cell_type": "code",
      "execution_count": 75,
      "metadata": {
        "id": "zEZG1N7pip8D"
      },
      "outputs": [],
      "source": [
        "history_dict = history.history"
      ]
    },
    {
      "cell_type": "code",
      "execution_count": 76,
      "metadata": {
        "id": "cPs5FcBtir3W",
        "colab": {
          "base_uri": "https://localhost:8080/"
        },
        "outputId": "691c7104-0804-4ae7-bc8b-7875a5d68c04"
      },
      "outputs": [
        {
          "output_type": "execute_result",
          "data": {
            "text/plain": [
              "dict_keys(['loss', 'accuracy', 'val_loss', 'val_accuracy'])"
            ]
          },
          "metadata": {},
          "execution_count": 76
        }
      ],
      "source": [
        "history_dict.keys()"
      ]
    },
    {
      "cell_type": "markdown",
      "metadata": {
        "id": "M9xfR3-Ti3h4"
      },
      "source": [
        "### Listing 4.8 Plotting the training and validation loss"
      ]
    },
    {
      "cell_type": "code",
      "execution_count": 77,
      "metadata": {
        "id": "4cEHs4Hdi5sf",
        "colab": {
          "base_uri": "https://localhost:8080/",
          "height": 472
        },
        "outputId": "2684d6c1-1c64-4f24-e9df-33dcb77d1381"
      },
      "outputs": [
        {
          "output_type": "display_data",
          "data": {
            "text/plain": [
              "<Figure size 640x480 with 1 Axes>"
            ],
            "image/png": "[encoded data removed]"
          },
          "metadata": {}
        }
      ],
      "source": [
        "import matplotlib.pyplot as plt\n",
        "history_dict = history.history\n",
        "loss_values = history_dict[\"loss\"]\n",
        "val_loss_values = history_dict[\"val_loss\"]\n",
        "epochs = range(1, len(loss_values) + 1)\n",
        "plt.plot(epochs, loss_values, \"bo\", label=\"Training loss\")\n",
        "plt.plot(epochs, val_loss_values, \"b\", label=\"Validation loss\")\n",
        "plt.title(\"Training and validation loss\")\n",
        "plt.xlabel(\"Epochs\")\n",
        "plt.ylabel(\"Loss\")\n",
        "plt.legend()\n",
        "plt.show()"
      ]
    },
    {
      "cell_type": "markdown",
      "metadata": {
        "id": "4x0puaw8jMVm"
      },
      "source": [
        "### Listing 4.9 Plotting the training and validation accuracy"
      ]
    },
    {
      "cell_type": "code",
      "execution_count": 78,
      "metadata": {
        "id": "trAj2KJLjIBX",
        "colab": {
          "base_uri": "https://localhost:8080/",
          "height": 472
        },
        "outputId": "17b673c0-d787-4d41-93fd-29b90d88d3da"
      },
      "outputs": [
        {
          "output_type": "display_data",
          "data": {
            "text/plain": [
              "<Figure size 640x480 with 1 Axes>"
            ],
            "image/png": "[encoded data removed]"
          },
          "metadata": {}
        }
      ],
      "source": [
        "plt.clf()\n",
        "acc = history_dict[\"accuracy\"]\n",
        "val_acc = history_dict[\"val_accuracy\"]\n",
        "plt.plot(epochs, acc, \"bo\", label=\"Training acc\")\n",
        "plt.plot(epochs, val_acc, \"b\", label=\"Validation acc\")\n",
        "plt.title(\"Training and validation accuracy\")\n",
        "plt.xlabel(\"Epochs\")\n",
        "plt.ylabel(\"Accuracy\")\n",
        "plt.legend()\n",
        "plt.show()"
      ]
    },
    {
      "cell_type": "markdown",
      "metadata": {
        "id": "m7PGmPLTjaJ_"
      },
      "source": [
        "### Listing 4.10 Retraining a model from scratch"
      ]
    },
    {
      "cell_type": "code",
      "execution_count": 79,
      "metadata": {
        "id": "SuxcdZ4mjbsr",
        "colab": {
          "base_uri": "https://localhost:8080/"
        },
        "outputId": "aeddfc6e-b9f7-4330-c04c-664aba678699"
      },
      "outputs": [
        {
          "output_type": "stream",
          "name": "stdout",
          "text": [
            "Epoch 1/38\n",
            "27/27 [==============================] - 2s 40ms/step - loss: 0.6867 - accuracy: 0.7989\n",
            "Epoch 2/38\n",
            "27/27 [==============================] - 1s 29ms/step - loss: 0.6591 - accuracy: 0.8208\n",
            "Epoch 3/38\n",
            "27/27 [==============================] - 1s 29ms/step - loss: 0.6241 - accuracy: 0.8208\n",
            "Epoch 4/38\n",
            "27/27 [==============================] - 1s 29ms/step - loss: 0.5894 - accuracy: 0.8208\n",
            "Epoch 5/38\n",
            "27/27 [==============================] - 1s 30ms/step - loss: 0.5564 - accuracy: 0.8208\n",
            "Epoch 6/38\n",
            "27/27 [==============================] - 1s 30ms/step - loss: 0.5262 - accuracy: 0.8208\n",
            "Epoch 7/38\n",
            "27/27 [==============================] - 1s 29ms/step - loss: 0.5018 - accuracy: 0.8208\n",
            "Epoch 8/38\n",
            "27/27 [==============================] - 1s 29ms/step - loss: 0.4841 - accuracy: 0.8208\n",
            "Epoch 9/38\n",
            "27/27 [==============================] - 1s 30ms/step - loss: 0.4742 - accuracy: 0.8208\n",
            "Epoch 10/38\n",
            "27/27 [==============================] - 1s 30ms/step - loss: 0.4706 - accuracy: 0.8208\n",
            "Epoch 11/38\n",
            "27/27 [==============================] - 1s 30ms/step - loss: 0.4702 - accuracy: 0.8208\n",
            "Epoch 12/38\n",
            "27/27 [==============================] - 1s 29ms/step - loss: 0.4702 - accuracy: 0.8208\n",
            "Epoch 13/38\n",
            "27/27 [==============================] - 1s 29ms/step - loss: 0.4702 - accuracy: 0.8208\n",
            "Epoch 14/38\n",
            "27/27 [==============================] - 1s 37ms/step - loss: 0.4702 - accuracy: 0.8208\n",
            "Epoch 15/38\n",
            "27/27 [==============================] - 1s 42ms/step - loss: 0.4702 - accuracy: 0.8208\n",
            "Epoch 16/38\n",
            "27/27 [==============================] - 1s 40ms/step - loss: 0.4702 - accuracy: 0.8208\n",
            "Epoch 17/38\n",
            "27/27 [==============================] - 1s 29ms/step - loss: 0.4702 - accuracy: 0.8208\n",
            "Epoch 18/38\n",
            "27/27 [==============================] - 1s 31ms/step - loss: 0.4702 - accuracy: 0.8208\n",
            "Epoch 19/38\n",
            "27/27 [==============================] - 1s 30ms/step - loss: 0.4702 - accuracy: 0.8208\n",
            "Epoch 20/38\n",
            "27/27 [==============================] - 1s 30ms/step - loss: 0.4702 - accuracy: 0.8208\n",
            "Epoch 21/38\n",
            "27/27 [==============================] - 1s 29ms/step - loss: 0.4702 - accuracy: 0.8208\n",
            "Epoch 22/38\n",
            "27/27 [==============================] - 1s 29ms/step - loss: 0.4702 - accuracy: 0.8208\n",
            "Epoch 23/38\n",
            "27/27 [==============================] - 1s 29ms/step - loss: 0.4702 - accuracy: 0.8208\n",
            "Epoch 24/38\n",
            "27/27 [==============================] - 1s 29ms/step - loss: 0.4702 - accuracy: 0.8208\n",
            "Epoch 25/38\n",
            "27/27 [==============================] - 1s 29ms/step - loss: 0.4702 - accuracy: 0.8208\n",
            "Epoch 26/38\n",
            "27/27 [==============================] - 1s 30ms/step - loss: 0.4702 - accuracy: 0.8208\n",
            "Epoch 27/38\n",
            "27/27 [==============================] - 1s 29ms/step - loss: 0.4702 - accuracy: 0.8208\n",
            "Epoch 28/38\n",
            "27/27 [==============================] - 1s 29ms/step - loss: 0.4702 - accuracy: 0.8208\n",
            "Epoch 29/38\n",
            "27/27 [==============================] - 1s 33ms/step - loss: 0.4702 - accuracy: 0.8208\n",
            "Epoch 30/38\n",
            "27/27 [==============================] - 1s 40ms/step - loss: 0.4702 - accuracy: 0.8208\n",
            "Epoch 31/38\n",
            "27/27 [==============================] - 1s 41ms/step - loss: 0.4702 - accuracy: 0.8208\n",
            "Epoch 32/38\n",
            "27/27 [==============================] - 1s 35ms/step - loss: 0.4702 - accuracy: 0.8208\n",
            "Epoch 33/38\n",
            "27/27 [==============================] - 1s 30ms/step - loss: 0.4702 - accuracy: 0.8208\n",
            "Epoch 34/38\n",
            "27/27 [==============================] - 1s 29ms/step - loss: 0.4702 - accuracy: 0.8208\n",
            "Epoch 35/38\n",
            "27/27 [==============================] - 1s 30ms/step - loss: 0.4702 - accuracy: 0.8208\n",
            "Epoch 36/38\n",
            "27/27 [==============================] - 1s 30ms/step - loss: 0.4702 - accuracy: 0.8208\n",
            "Epoch 37/38\n",
            "27/27 [==============================] - 1s 29ms/step - loss: 0.4702 - accuracy: 0.8208\n",
            "Epoch 38/38\n",
            "27/27 [==============================] - 1s 29ms/step - loss: 0.4702 - accuracy: 0.8208\n",
            "185/185 [==============================] - 1s 3ms/step - loss: 0.4835 - accuracy: 0.8120\n"
          ]
        }
      ],
      "source": [
        "model = keras.Sequential([\n",
        "    layers.Dense(16, activation=\"relu\"),\n",
        "    layers.Dense(16, activation=\"relu\"),\n",
        "    layers.Dense(1, activation=\"sigmoid\")\n",
        "])\n",
        "model.compile(optimizer=\"rmsprop\",\n",
        "              loss=\"binary_crossentropy\",\n",
        "              metrics=[\"accuracy\"])\n",
        "model.fit(x_train, y_train, epochs=38, batch_size=512)\n",
        "results = model.evaluate(x_test, y_test)"
      ]
    },
    {
      "cell_type": "code",
      "execution_count": 80,
      "metadata": {
        "id": "ZT09ALyHjnAy",
        "colab": {
          "base_uri": "https://localhost:8080/"
        },
        "outputId": "097873b3-a504-4190-8dc5-bef82409e543"
      },
      "outputs": [
        {
          "output_type": "execute_result",
          "data": {
            "text/plain": [
              "[0.4835375249385834, 0.8120020627975464]"
            ]
          },
          "metadata": {},
          "execution_count": 80
        }
      ],
      "source": [
        "results"
      ]
    },
    {
      "cell_type": "markdown",
      "metadata": {
        "id": "s70UYg6tefvL"
      },
      "source": [
        "### 4.1.5 Using a trained model to generate predictions on new data"
      ]
    },
    {
      "cell_type": "code",
      "execution_count": 81,
      "metadata": {
        "id": "q8mg-YhCj57Y",
        "colab": {
          "base_uri": "https://localhost:8080/"
        },
        "outputId": "f6b80355-4c33-424f-cfa1-2357f210a753"
      },
      "outputs": [
        {
          "output_type": "stream",
          "name": "stdout",
          "text": [
            "185/185 [==============================] - 1s 2ms/step\n"
          ]
        }
      ],
      "source": [
        "predictions = model.predict(x_test)"
      ]
    },
    {
      "cell_type": "markdown",
      "metadata": {
        "id": "86KsFzfEepKb"
      },
      "source": [
        "### Further Experiments"
      ]
    },
    {
      "cell_type": "code",
      "execution_count": 82,
      "metadata": {
        "id": "vZM0JKV0esMP",
        "colab": {
          "base_uri": "https://localhost:8080/"
        },
        "outputId": "7e12c99f-9273-4599-a071-3b43ca51d267"
      },
      "outputs": [
        {
          "output_type": "stream",
          "name": "stdout",
          "text": [
            "Epoch 1/38\n",
            "27/27 [==============================] - 1s 31ms/step - loss: 0.2450 - accuracy: 0.7974\n",
            "Epoch 2/38\n",
            "27/27 [==============================] - 1s 29ms/step - loss: 0.2346 - accuracy: 0.8208\n",
            "Epoch 3/38\n",
            "27/27 [==============================] - 1s 28ms/step - loss: 0.2247 - accuracy: 0.8208\n",
            "Epoch 4/38\n",
            "27/27 [==============================] - 1s 28ms/step - loss: 0.2147 - accuracy: 0.8208\n",
            "Epoch 5/38\n",
            "27/27 [==============================] - 1s 28ms/step - loss: 0.2049 - accuracy: 0.8208\n",
            "Epoch 6/38\n",
            "27/27 [==============================] - 1s 28ms/step - loss: 0.1953 - accuracy: 0.8208\n",
            "Epoch 7/38\n",
            "27/27 [==============================] - 1s 28ms/step - loss: 0.1863 - accuracy: 0.8208\n",
            "Epoch 8/38\n",
            "27/27 [==============================] - 1s 28ms/step - loss: 0.1780 - accuracy: 0.8208\n",
            "Epoch 9/38\n",
            "27/27 [==============================] - 1s 28ms/step - loss: 0.1706 - accuracy: 0.8208\n",
            "Epoch 10/38\n",
            "27/27 [==============================] - 1s 28ms/step - loss: 0.1642 - accuracy: 0.8208\n",
            "Epoch 11/38\n",
            "27/27 [==============================] - 1s 28ms/step - loss: 0.1588 - accuracy: 0.8208\n",
            "Epoch 12/38\n",
            "27/27 [==============================] - 1s 29ms/step - loss: 0.1545 - accuracy: 0.8208\n",
            "Epoch 13/38\n",
            "27/27 [==============================] - 1s 34ms/step - loss: 0.1512 - accuracy: 0.8208\n",
            "Epoch 14/38\n",
            "27/27 [==============================] - 1s 40ms/step - loss: 0.1491 - accuracy: 0.8208\n",
            "Epoch 15/38\n",
            "27/27 [==============================] - 1s 39ms/step - loss: 0.1478 - accuracy: 0.8208\n",
            "Epoch 16/38\n",
            "27/27 [==============================] - 1s 32ms/step - loss: 0.1472 - accuracy: 0.8208\n",
            "Epoch 17/38\n",
            "27/27 [==============================] - 1s 29ms/step - loss: 0.1471 - accuracy: 0.8208\n",
            "Epoch 18/38\n",
            "27/27 [==============================] - 1s 29ms/step - loss: 0.1471 - accuracy: 0.8208\n",
            "Epoch 19/38\n",
            "27/27 [==============================] - 1s 29ms/step - loss: 0.1471 - accuracy: 0.8208\n",
            "Epoch 20/38\n",
            "27/27 [==============================] - 1s 29ms/step - loss: 0.1471 - accuracy: 0.8208\n",
            "Epoch 21/38\n",
            "27/27 [==============================] - 1s 28ms/step - loss: 0.1471 - accuracy: 0.8208\n",
            "Epoch 22/38\n",
            "27/27 [==============================] - 1s 27ms/step - loss: 0.1471 - accuracy: 0.8208\n",
            "Epoch 23/38\n",
            "27/27 [==============================] - 1s 29ms/step - loss: 0.1471 - accuracy: 0.8208\n",
            "Epoch 24/38\n",
            "27/27 [==============================] - 1s 30ms/step - loss: 0.1471 - accuracy: 0.8208\n",
            "Epoch 25/38\n",
            "27/27 [==============================] - 1s 28ms/step - loss: 0.1471 - accuracy: 0.8208\n",
            "Epoch 26/38\n",
            "27/27 [==============================] - 1s 28ms/step - loss: 0.1471 - accuracy: 0.8208\n",
            "Epoch 27/38\n",
            "27/27 [==============================] - 1s 29ms/step - loss: 0.1471 - accuracy: 0.8208\n",
            "Epoch 28/38\n",
            "27/27 [==============================] - 1s 29ms/step - loss: 0.1471 - accuracy: 0.8208\n",
            "Epoch 29/38\n",
            "27/27 [==============================] - 1s 37ms/step - loss: 0.1471 - accuracy: 0.8208\n",
            "Epoch 30/38\n",
            "27/27 [==============================] - 1s 37ms/step - loss: 0.1471 - accuracy: 0.8208\n",
            "Epoch 31/38\n",
            "27/27 [==============================] - 1s 39ms/step - loss: 0.1471 - accuracy: 0.8208\n",
            "Epoch 32/38\n",
            "27/27 [==============================] - 1s 31ms/step - loss: 0.1471 - accuracy: 0.8208\n",
            "Epoch 33/38\n",
            "27/27 [==============================] - 1s 28ms/step - loss: 0.1471 - accuracy: 0.8208\n",
            "Epoch 34/38\n",
            "27/27 [==============================] - 1s 28ms/step - loss: 0.1471 - accuracy: 0.8208\n",
            "Epoch 35/38\n",
            "27/27 [==============================] - 1s 28ms/step - loss: 0.1471 - accuracy: 0.8208\n",
            "Epoch 36/38\n",
            "27/27 [==============================] - 1s 28ms/step - loss: 0.1471 - accuracy: 0.8208\n",
            "Epoch 37/38\n",
            "27/27 [==============================] - 1s 28ms/step - loss: 0.1471 - accuracy: 0.8208\n",
            "Epoch 38/38\n",
            "27/27 [==============================] - 1s 27ms/step - loss: 0.1471 - accuracy: 0.8208\n",
            "185/185 [==============================] - 1s 2ms/step - loss: 0.1527 - accuracy: 0.8120\n"
          ]
        }
      ],
      "source": [
        "model = keras.Sequential([\n",
        "    layers.Dense(16, activation=\"relu\"),\n",
        "    layers.Dense(1, activation=\"sigmoid\")\n",
        "])\n",
        "model.compile(optimizer=\"rmsprop\",\n",
        "              loss=\"mse\",\n",
        "              metrics=[\"accuracy\"])\n",
        "model.fit(x_train, y_train, epochs=38, batch_size=512)\n",
        "results = model.evaluate(x_test, y_test)"
      ]
    },
    {
      "cell_type": "code",
      "execution_count": 83,
      "metadata": {
        "id": "JKpQDvZcev5q",
        "colab": {
          "base_uri": "https://localhost:8080/"
        },
        "outputId": "76f6a20a-dbd0-4270-eae8-c66445546b74"
      },
      "outputs": [
        {
          "output_type": "execute_result",
          "data": {
            "text/plain": [
              "[0.1527402698993683, 0.8120020627975464]"
            ]
          },
          "metadata": {},
          "execution_count": 83
        }
      ],
      "source": [
        "results"
      ]
    },
    {
      "cell_type": "markdown",
      "metadata": {
        "id": "HaU45TgYRXm9"
      },
      "source": [
        "# Multiclass Classification"
      ]
    },
    {
      "cell_type": "markdown",
      "metadata": {
        "id": "OM3FD_0ZLb0K"
      },
      "source": [
        "### Listing 4.11 Loading the Reuters dataset"
      ]
    },
    {
      "cell_type": "code",
      "execution_count": 136,
      "metadata": {
        "id": "f5DyPfvDRev8"
      },
      "outputs": [],
      "source": [
        "# Load the dataset (replace with your dataset URL)\n",
        "url = \"https://raw.githubusercontent.com/RoroDuran23/irisDS_CPSC393_ML/main/tripadvisor_hotel_reviews.csv?token=GHSAT0AAAAAACJR55ELD5FID2AKZTEBVHAYZJ7IATQ\"\n",
        "trip = pd.read_csv(url)"
      ]
    },
    {
      "cell_type": "code",
      "execution_count": 137,
      "metadata": {
        "id": "FC_i7gqteaU0"
      },
      "outputs": [],
      "source": [
        "# Drop null values\n",
        "trip.dropna(inplace=True)"
      ]
    },
    {
      "cell_type": "code",
      "execution_count": 138,
      "metadata": {
        "id": "7R4qMTm4LJIm"
      },
      "outputs": [],
      "source": [
        "X = trip['Review']\n",
        "y = trip['Rating'] - 1 # Adjust for Python starting at zero"
      ]
    },
    {
      "cell_type": "code",
      "execution_count": 139,
      "metadata": {
        "id": "5lzw569k_pZ5"
      },
      "outputs": [],
      "source": [
        "# Tokenize the text\n",
        "max_words = 10000  # Set the maximum number of words to consider\n",
        "tokenizer = Tokenizer(num_words=max_words, oov_token='<OOV>')\n",
        "tokenizer.fit_on_texts(X)\n",
        "\n",
        "# Convert text to sequences of integers\n",
        "X = tokenizer.texts_to_sequences(X)"
      ]
    },
    {
      "cell_type": "code",
      "execution_count": 140,
      "metadata": {
        "id": "HXzo5nfECFQs"
      },
      "outputs": [],
      "source": [
        "max_sequence_length = 200  # Set the maximum sequence length\n",
        "padded_sequences = pad_sequences(X, maxlen=max_sequence_length, padding='post', truncating='post')"
      ]
    },
    {
      "cell_type": "code",
      "execution_count": 141,
      "metadata": {
        "id": "eaKpkLZ-CJlG"
      },
      "outputs": [],
      "source": [
        "max_sequence_length = 200  # Set the maximum sequence length\n",
        "padded_sequences = pad_sequences(X, maxlen=max_sequence_length, padding='post', truncating='post')"
      ]
    },
    {
      "cell_type": "code",
      "execution_count": 142,
      "metadata": {
        "id": "dfqZ4_TuCPDe"
      },
      "outputs": [],
      "source": [
        "train_data, test_data, train_labels, test_labels = train_test_split(X, y, test_size=0.3, random_state=42)"
      ]
    },
    {
      "cell_type": "code",
      "execution_count": 143,
      "metadata": {
        "id": "6trz8lvCRhnU",
        "colab": {
          "base_uri": "https://localhost:8080/"
        },
        "outputId": "47ca7d33-c30d-4d89-f83f-fcd76c378eb1"
      },
      "outputs": [
        {
          "output_type": "execute_result",
          "data": {
            "text/plain": [
              "14343"
            ]
          },
          "metadata": {},
          "execution_count": 143
        }
      ],
      "source": [
        "len(train_data)"
      ]
    },
    {
      "cell_type": "code",
      "execution_count": 144,
      "metadata": {
        "id": "E8BtlYvS-Q8D",
        "colab": {
          "base_uri": "https://localhost:8080/"
        },
        "outputId": "ab025594-0d41-437d-f44e-d86896d4b5af"
      },
      "outputs": [
        {
          "output_type": "execute_result",
          "data": {
            "text/plain": [
              "6148"
            ]
          },
          "metadata": {},
          "execution_count": 144
        }
      ],
      "source": [
        "len(test_data)"
      ]
    },
    {
      "cell_type": "code",
      "execution_count": 145,
      "metadata": {
        "id": "P2Su5bn-RlIg",
        "colab": {
          "base_uri": "https://localhost:8080/"
        },
        "outputId": "dfc8ffb7-9131-4079-a69b-35f80e681ad5"
      },
      "outputs": [
        {
          "output_type": "execute_result",
          "data": {
            "text/plain": [
              "[5,\n",
              " 2,\n",
              " 38,\n",
              " 681,\n",
              " 16,\n",
              " 44,\n",
              " 58,\n",
              " 167,\n",
              " 453,\n",
              " 37,\n",
              " 2166,\n",
              " 3761,\n",
              " 92,\n",
              " 63,\n",
              " 123,\n",
              " 1,\n",
              " 480,\n",
              " 1,\n",
              " 195,\n",
              " 1559,\n",
              " 1,\n",
              " 2744,\n",
              " 79,\n",
              " 195,\n",
              " 168,\n",
              " 1278,\n",
              " 2,\n",
              " 1629,\n",
              " 141,\n",
              " 901,\n",
              " 269,\n",
              " 124,\n",
              " 901,\n",
              " 3446,\n",
              " 46,\n",
              " 24,\n",
              " 1931]"
            ]
          },
          "metadata": {},
          "execution_count": 145
        }
      ],
      "source": [
        "train_data[10]"
      ]
    },
    {
      "cell_type": "markdown",
      "metadata": {
        "id": "HCE3OHuYLoX8"
      },
      "source": [
        "### Listing 4.12 Decoding newswires back to text"
      ]
    },
    {
      "cell_type": "code",
      "execution_count": 146,
      "metadata": {
        "id": "TqT5sMioClrM"
      },
      "outputs": [],
      "source": [
        "# Access the word_index\n",
        "word_index = tokenizer.word_index"
      ]
    },
    {
      "cell_type": "code",
      "execution_count": 147,
      "metadata": {
        "id": "g-mE6d8MC6jm"
      },
      "outputs": [],
      "source": [
        "# Create a reverse word index Ids back to words\n",
        "reverse_word_index = {v: k for k, v in word_index.items()}"
      ]
    },
    {
      "cell_type": "code",
      "execution_count": 148,
      "metadata": {
        "id": "iKuJcqqQC_zr",
        "colab": {
          "base_uri": "https://localhost:8080/"
        },
        "outputId": "8c5f75aa-47ab-4228-92eb-be1a4507cd67"
      },
      "outputs": [
        {
          "output_type": "stream",
          "name": "stdout",
          "text": [
            "stay ? fine does small not la n't ? museum lot included towels problem district taking booked good choices does comfortable poor amazing friendly french working vieques trip ? ? beach stay different bathroom beautiful chips elan jury thought public <OOV> checkpoint breakfast sick maybe ? location experience based ? japanese suggestions 11pm review pool dishes wasnt bathrooms staff centre secluded ps spa motel stay good <OOV> axel n't stay 24 variety mean eat gets nice hotel took highly having quiet stay days come work executive does location\n"
          ]
        }
      ],
      "source": [
        "# Decode the first training sample (train_data[0]) back to words\n",
        "decoded_newswire = \" \".join([reverse_word_index.get(i - 3, \"?\") for i in X[0]])\n",
        "\n",
        "print(decoded_newswire)"
      ]
    },
    {
      "cell_type": "code",
      "execution_count": 149,
      "metadata": {
        "id": "HMGlrQvxDQGD",
        "colab": {
          "base_uri": "https://localhost:8080/"
        },
        "outputId": "e97b8190-9e9f-4bcc-d068-ef248fa9a435"
      },
      "outputs": [
        {
          "output_type": "execute_result",
          "data": {
            "text/plain": [
              "1"
            ]
          },
          "metadata": {},
          "execution_count": 149
        }
      ],
      "source": [
        "train_labels[10]"
      ]
    },
    {
      "cell_type": "markdown",
      "metadata": {
        "id": "TDCLXBuILvcx"
      },
      "source": [
        "### Listing 4.13 Encoding the input data"
      ]
    },
    {
      "cell_type": "code",
      "execution_count": 155,
      "metadata": {
        "id": "ndFSV9OnDLnO"
      },
      "outputs": [],
      "source": [
        "# Tokenize the training and test data\n",
        "x_train = vectorize_sequences(train_data)\n",
        "x_test = vectorize_sequences(test_data)"
      ]
    },
    {
      "cell_type": "markdown",
      "metadata": {
        "id": "oh5mbEIQSjqz"
      },
      "source": [
        "### Listing 4.14 Encoding the labels"
      ]
    },
    {
      "cell_type": "code",
      "execution_count": 156,
      "metadata": {
        "id": "q1qe1aqcD0bI"
      },
      "outputs": [],
      "source": [
        "from tensorflow.keras.utils import to_categorical\n",
        "y_train = to_categorical(train_labels, num_classes = 5)\n",
        "y_test = to_categorical(test_labels, num_classes = 5)"
      ]
    },
    {
      "cell_type": "markdown",
      "metadata": {
        "id": "dRsEiUZiHsuh"
      },
      "source": [
        "### Listing 4.15 Model definition"
      ]
    },
    {
      "cell_type": "code",
      "execution_count": 157,
      "metadata": {
        "id": "LbA9RkaLHuuB"
      },
      "outputs": [],
      "source": [
        "model = keras.Sequential([\n",
        "    layers.Dense(64, activation=\"relu\"),\n",
        "    layers.Dense(64, activation=\"relu\"),\n",
        "    layers.Dense(5, activation=\"softmax\")\n",
        "])"
      ]
    },
    {
      "cell_type": "markdown",
      "metadata": {
        "id": "ghQMVwW8H0A4"
      },
      "source": [
        "### Listing 4.16 Compiling the model"
      ]
    },
    {
      "cell_type": "code",
      "execution_count": 158,
      "metadata": {
        "id": "Bz9baF6RHxNU"
      },
      "outputs": [],
      "source": [
        "model.compile(optimizer=\"rmsprop\",\n",
        "              loss=\"categorical_crossentropy\",\n",
        "              metrics=[\"accuracy\"])"
      ]
    },
    {
      "cell_type": "markdown",
      "metadata": {
        "id": "4S3m3dC2H-Mc"
      },
      "source": [
        "### Listing 4.17 Setting aside a validation set"
      ]
    },
    {
      "cell_type": "code",
      "execution_count": 159,
      "metadata": {
        "id": "Tdanv6AaH7nC"
      },
      "outputs": [],
      "source": [
        "x_val = x_train[:1000]\n",
        "partial_x_train = x_train[1000:]\n",
        "y_val = y_train[:1000]\n",
        "partial_y_train = y_train[1000:]"
      ]
    },
    {
      "cell_type": "markdown",
      "metadata": {
        "id": "tBt_ZFxRIKHj"
      },
      "source": [
        "### Listing 4.18 Training the model"
      ]
    },
    {
      "cell_type": "code",
      "execution_count": 160,
      "metadata": {
        "id": "0dvH4YH-I-RC",
        "colab": {
          "base_uri": "https://localhost:8080/"
        },
        "outputId": "3d29f35b-2c95-4511-cc12-c5f1c4f17881"
      },
      "outputs": [
        {
          "output_type": "stream",
          "name": "stdout",
          "text": [
            "Epoch 1/80\n",
            "27/27 [==============================] - 2s 61ms/step - loss: 1.5965 - accuracy: 0.4330 - val_loss: 1.5870 - val_accuracy: 0.4540\n",
            "Epoch 2/80\n",
            "27/27 [==============================] - 1s 47ms/step - loss: 1.5781 - accuracy: 0.4450 - val_loss: 1.5714 - val_accuracy: 0.4540\n",
            "Epoch 3/80\n",
            "27/27 [==============================] - 1s 51ms/step - loss: 1.5620 - accuracy: 0.4450 - val_loss: 1.5564 - val_accuracy: 0.4550\n",
            "Epoch 4/80\n",
            "27/27 [==============================] - 1s 46ms/step - loss: 1.5467 - accuracy: 0.4450 - val_loss: 1.5421 - val_accuracy: 0.4550\n",
            "Epoch 5/80\n",
            "27/27 [==============================] - 1s 47ms/step - loss: 1.5319 - accuracy: 0.4450 - val_loss: 1.5288 - val_accuracy: 0.4550\n",
            "Epoch 6/80\n",
            "27/27 [==============================] - 1s 53ms/step - loss: 1.5179 - accuracy: 0.4450 - val_loss: 1.5158 - val_accuracy: 0.4550\n",
            "Epoch 7/80\n",
            "27/27 [==============================] - 2s 83ms/step - loss: 1.5046 - accuracy: 0.4450 - val_loss: 1.5037 - val_accuracy: 0.4550\n",
            "Epoch 8/80\n",
            "27/27 [==============================] - 1s 54ms/step - loss: 1.4919 - accuracy: 0.4450 - val_loss: 1.4922 - val_accuracy: 0.4550\n",
            "Epoch 9/80\n",
            "27/27 [==============================] - 1s 48ms/step - loss: 1.4800 - accuracy: 0.4450 - val_loss: 1.4814 - val_accuracy: 0.4550\n",
            "Epoch 10/80\n",
            "27/27 [==============================] - 1s 50ms/step - loss: 1.4688 - accuracy: 0.4450 - val_loss: 1.4711 - val_accuracy: 0.4550\n",
            "Epoch 11/80\n",
            "27/27 [==============================] - 1s 46ms/step - loss: 1.4582 - accuracy: 0.4450 - val_loss: 1.4617 - val_accuracy: 0.4550\n",
            "Epoch 12/80\n",
            "27/27 [==============================] - 1s 46ms/step - loss: 1.4483 - accuracy: 0.4450 - val_loss: 1.4529 - val_accuracy: 0.4550\n",
            "Epoch 13/80\n",
            "27/27 [==============================] - 1s 48ms/step - loss: 1.4392 - accuracy: 0.4450 - val_loss: 1.4446 - val_accuracy: 0.4550\n",
            "Epoch 14/80\n",
            "27/27 [==============================] - 1s 47ms/step - loss: 1.4305 - accuracy: 0.4450 - val_loss: 1.4366 - val_accuracy: 0.4550\n",
            "Epoch 15/80\n",
            "27/27 [==============================] - 1s 45ms/step - loss: 1.4224 - accuracy: 0.4450 - val_loss: 1.4296 - val_accuracy: 0.4550\n",
            "Epoch 16/80\n",
            "27/27 [==============================] - 2s 79ms/step - loss: 1.4151 - accuracy: 0.4450 - val_loss: 1.4226 - val_accuracy: 0.4550\n",
            "Epoch 17/80\n",
            "27/27 [==============================] - 2s 64ms/step - loss: 1.4083 - accuracy: 0.4450 - val_loss: 1.4164 - val_accuracy: 0.4550\n",
            "Epoch 18/80\n",
            "27/27 [==============================] - 1s 46ms/step - loss: 1.4018 - accuracy: 0.4450 - val_loss: 1.4107 - val_accuracy: 0.4550\n",
            "Epoch 19/80\n",
            "27/27 [==============================] - 1s 47ms/step - loss: 1.3960 - accuracy: 0.4450 - val_loss: 1.4051 - val_accuracy: 0.4550\n",
            "Epoch 20/80\n",
            "27/27 [==============================] - 1s 47ms/step - loss: 1.3906 - accuracy: 0.4450 - val_loss: 1.4004 - val_accuracy: 0.4550\n",
            "Epoch 21/80\n",
            "27/27 [==============================] - 1s 48ms/step - loss: 1.3857 - accuracy: 0.4450 - val_loss: 1.3959 - val_accuracy: 0.4550\n",
            "Epoch 22/80\n",
            "27/27 [==============================] - 1s 48ms/step - loss: 1.3815 - accuracy: 0.4450 - val_loss: 1.3920 - val_accuracy: 0.4550\n",
            "Epoch 23/80\n",
            "27/27 [==============================] - 1s 47ms/step - loss: 1.3775 - accuracy: 0.4450 - val_loss: 1.3885 - val_accuracy: 0.4550\n",
            "Epoch 24/80\n",
            "27/27 [==============================] - 1s 46ms/step - loss: 1.3740 - accuracy: 0.4450 - val_loss: 1.3850 - val_accuracy: 0.4550\n",
            "Epoch 25/80\n",
            "27/27 [==============================] - 2s 68ms/step - loss: 1.3708 - accuracy: 0.4450 - val_loss: 1.3825 - val_accuracy: 0.4550\n",
            "Epoch 26/80\n",
            "27/27 [==============================] - 2s 74ms/step - loss: 1.3682 - accuracy: 0.4450 - val_loss: 1.3802 - val_accuracy: 0.4550\n",
            "Epoch 27/80\n",
            "27/27 [==============================] - 1s 47ms/step - loss: 1.3659 - accuracy: 0.4450 - val_loss: 1.3782 - val_accuracy: 0.4550\n",
            "Epoch 28/80\n",
            "27/27 [==============================] - 1s 48ms/step - loss: 1.3640 - accuracy: 0.4450 - val_loss: 1.3767 - val_accuracy: 0.4550\n",
            "Epoch 29/80\n",
            "27/27 [==============================] - 1s 47ms/step - loss: 1.3623 - accuracy: 0.4450 - val_loss: 1.3753 - val_accuracy: 0.4550\n",
            "Epoch 30/80\n",
            "27/27 [==============================] - 1s 45ms/step - loss: 1.3610 - accuracy: 0.4450 - val_loss: 1.3742 - val_accuracy: 0.4550\n",
            "Epoch 31/80\n",
            "27/27 [==============================] - 1s 46ms/step - loss: 1.3600 - accuracy: 0.4450 - val_loss: 1.3734 - val_accuracy: 0.4550\n",
            "Epoch 32/80\n",
            "27/27 [==============================] - 1s 47ms/step - loss: 1.3592 - accuracy: 0.4450 - val_loss: 1.3729 - val_accuracy: 0.4550\n",
            "Epoch 33/80\n",
            "27/27 [==============================] - 1s 46ms/step - loss: 1.3586 - accuracy: 0.4450 - val_loss: 1.3725 - val_accuracy: 0.4550\n",
            "Epoch 34/80\n",
            "27/27 [==============================] - 2s 59ms/step - loss: 1.3581 - accuracy: 0.4450 - val_loss: 1.3722 - val_accuracy: 0.4550\n",
            "Epoch 35/80\n",
            "27/27 [==============================] - 2s 81ms/step - loss: 1.3577 - accuracy: 0.4450 - val_loss: 1.3719 - val_accuracy: 0.4550\n",
            "Epoch 36/80\n",
            "27/27 [==============================] - 1s 46ms/step - loss: 1.3574 - accuracy: 0.4450 - val_loss: 1.3717 - val_accuracy: 0.4550\n",
            "Epoch 37/80\n",
            "27/27 [==============================] - 1s 48ms/step - loss: 1.3572 - accuracy: 0.4450 - val_loss: 1.3716 - val_accuracy: 0.4550\n",
            "Epoch 38/80\n",
            "27/27 [==============================] - 1s 47ms/step - loss: 1.3570 - accuracy: 0.4450 - val_loss: 1.3716 - val_accuracy: 0.4550\n",
            "Epoch 39/80\n",
            "27/27 [==============================] - 1s 49ms/step - loss: 1.3569 - accuracy: 0.4450 - val_loss: 1.3716 - val_accuracy: 0.4550\n",
            "Epoch 40/80\n",
            "27/27 [==============================] - 1s 46ms/step - loss: 1.3568 - accuracy: 0.4450 - val_loss: 1.3716 - val_accuracy: 0.4550\n",
            "Epoch 41/80\n",
            "27/27 [==============================] - 1s 48ms/step - loss: 1.3567 - accuracy: 0.4450 - val_loss: 1.3718 - val_accuracy: 0.4550\n",
            "Epoch 42/80\n",
            "27/27 [==============================] - 1s 48ms/step - loss: 1.3567 - accuracy: 0.4450 - val_loss: 1.3717 - val_accuracy: 0.4550\n",
            "Epoch 43/80\n",
            "27/27 [==============================] - 1s 54ms/step - loss: 1.3566 - accuracy: 0.4450 - val_loss: 1.3717 - val_accuracy: 0.4550\n",
            "Epoch 44/80\n",
            "27/27 [==============================] - 2s 81ms/step - loss: 1.3566 - accuracy: 0.4450 - val_loss: 1.3717 - val_accuracy: 0.4550\n",
            "Epoch 45/80\n",
            "27/27 [==============================] - 1s 52ms/step - loss: 1.3566 - accuracy: 0.4450 - val_loss: 1.3716 - val_accuracy: 0.4550\n",
            "Epoch 46/80\n",
            "27/27 [==============================] - 1s 48ms/step - loss: 1.3566 - accuracy: 0.4450 - val_loss: 1.3716 - val_accuracy: 0.4550\n",
            "Epoch 47/80\n",
            "27/27 [==============================] - 1s 47ms/step - loss: 1.3566 - accuracy: 0.4450 - val_loss: 1.3717 - val_accuracy: 0.4550\n",
            "Epoch 48/80\n",
            "27/27 [==============================] - 1s 46ms/step - loss: 1.3566 - accuracy: 0.4450 - val_loss: 1.3717 - val_accuracy: 0.4550\n",
            "Epoch 49/80\n",
            "27/27 [==============================] - 1s 45ms/step - loss: 1.3566 - accuracy: 0.4450 - val_loss: 1.3717 - val_accuracy: 0.4550\n",
            "Epoch 50/80\n",
            "27/27 [==============================] - 1s 47ms/step - loss: 1.3566 - accuracy: 0.4450 - val_loss: 1.3716 - val_accuracy: 0.4550\n",
            "Epoch 51/80\n",
            "27/27 [==============================] - 1s 46ms/step - loss: 1.3566 - accuracy: 0.4450 - val_loss: 1.3718 - val_accuracy: 0.4550\n",
            "Epoch 52/80\n",
            "27/27 [==============================] - 1s 47ms/step - loss: 1.3566 - accuracy: 0.4450 - val_loss: 1.3718 - val_accuracy: 0.4550\n",
            "Epoch 53/80\n",
            "27/27 [==============================] - 2s 79ms/step - loss: 1.3566 - accuracy: 0.4450 - val_loss: 1.3720 - val_accuracy: 0.4550\n",
            "Epoch 54/80\n",
            "27/27 [==============================] - 2s 65ms/step - loss: 1.3566 - accuracy: 0.4450 - val_loss: 1.3720 - val_accuracy: 0.4550\n",
            "Epoch 55/80\n",
            "27/27 [==============================] - 1s 47ms/step - loss: 1.3566 - accuracy: 0.4450 - val_loss: 1.3721 - val_accuracy: 0.4550\n",
            "Epoch 56/80\n",
            "27/27 [==============================] - 1s 47ms/step - loss: 1.3566 - accuracy: 0.4450 - val_loss: 1.3722 - val_accuracy: 0.4550\n",
            "Epoch 57/80\n",
            "27/27 [==============================] - 1s 45ms/step - loss: 1.3566 - accuracy: 0.4450 - val_loss: 1.3721 - val_accuracy: 0.4550\n",
            "Epoch 58/80\n",
            "27/27 [==============================] - 1s 47ms/step - loss: 1.3566 - accuracy: 0.4450 - val_loss: 1.3720 - val_accuracy: 0.4550\n",
            "Epoch 59/80\n",
            "27/27 [==============================] - 1s 47ms/step - loss: 1.3566 - accuracy: 0.4450 - val_loss: 1.3721 - val_accuracy: 0.4550\n",
            "Epoch 60/80\n",
            "27/27 [==============================] - 1s 48ms/step - loss: 1.3566 - accuracy: 0.4450 - val_loss: 1.3720 - val_accuracy: 0.4550\n",
            "Epoch 61/80\n",
            "27/27 [==============================] - 1s 48ms/step - loss: 1.3566 - accuracy: 0.4450 - val_loss: 1.3720 - val_accuracy: 0.4550\n",
            "Epoch 62/80\n",
            "27/27 [==============================] - 2s 66ms/step - loss: 1.3566 - accuracy: 0.4450 - val_loss: 1.3719 - val_accuracy: 0.4550\n",
            "Epoch 63/80\n",
            "27/27 [==============================] - 2s 77ms/step - loss: 1.3566 - accuracy: 0.4450 - val_loss: 1.3720 - val_accuracy: 0.4550\n",
            "Epoch 64/80\n",
            "27/27 [==============================] - 1s 47ms/step - loss: 1.3566 - accuracy: 0.4450 - val_loss: 1.3721 - val_accuracy: 0.4550\n",
            "Epoch 65/80\n",
            "27/27 [==============================] - 1s 47ms/step - loss: 1.3566 - accuracy: 0.4450 - val_loss: 1.3721 - val_accuracy: 0.4550\n",
            "Epoch 66/80\n",
            "27/27 [==============================] - 1s 46ms/step - loss: 1.3566 - accuracy: 0.4450 - val_loss: 1.3721 - val_accuracy: 0.4550\n",
            "Epoch 67/80\n",
            "27/27 [==============================] - 1s 46ms/step - loss: 1.3566 - accuracy: 0.4450 - val_loss: 1.3720 - val_accuracy: 0.4550\n",
            "Epoch 68/80\n",
            "27/27 [==============================] - 1s 47ms/step - loss: 1.3566 - accuracy: 0.4450 - val_loss: 1.3719 - val_accuracy: 0.4550\n",
            "Epoch 69/80\n",
            "27/27 [==============================] - 1s 46ms/step - loss: 1.3566 - accuracy: 0.4450 - val_loss: 1.3718 - val_accuracy: 0.4550\n",
            "Epoch 70/80\n",
            "27/27 [==============================] - 1s 48ms/step - loss: 1.3566 - accuracy: 0.4450 - val_loss: 1.3718 - val_accuracy: 0.4550\n",
            "Epoch 71/80\n",
            "27/27 [==============================] - 1s 55ms/step - loss: 1.3566 - accuracy: 0.4450 - val_loss: 1.3718 - val_accuracy: 0.4550\n",
            "Epoch 72/80\n",
            "27/27 [==============================] - 2s 84ms/step - loss: 1.3566 - accuracy: 0.4450 - val_loss: 1.3719 - val_accuracy: 0.4550\n",
            "Epoch 73/80\n",
            "27/27 [==============================] - 1s 47ms/step - loss: 1.3566 - accuracy: 0.4450 - val_loss: 1.3721 - val_accuracy: 0.4550\n",
            "Epoch 74/80\n",
            "27/27 [==============================] - 1s 47ms/step - loss: 1.3566 - accuracy: 0.4450 - val_loss: 1.3721 - val_accuracy: 0.4550\n",
            "Epoch 75/80\n",
            "27/27 [==============================] - 1s 48ms/step - loss: 1.3566 - accuracy: 0.4450 - val_loss: 1.3722 - val_accuracy: 0.4550\n",
            "Epoch 76/80\n",
            "27/27 [==============================] - 1s 46ms/step - loss: 1.3566 - accuracy: 0.4450 - val_loss: 1.3722 - val_accuracy: 0.4550\n",
            "Epoch 77/80\n",
            "27/27 [==============================] - 1s 46ms/step - loss: 1.3566 - accuracy: 0.4450 - val_loss: 1.3722 - val_accuracy: 0.4550\n",
            "Epoch 78/80\n",
            "27/27 [==============================] - 1s 46ms/step - loss: 1.3566 - accuracy: 0.4450 - val_loss: 1.3720 - val_accuracy: 0.4550\n",
            "Epoch 79/80\n",
            "27/27 [==============================] - 1s 47ms/step - loss: 1.3566 - accuracy: 0.4450 - val_loss: 1.3721 - val_accuracy: 0.4550\n",
            "Epoch 80/80\n",
            "27/27 [==============================] - 1s 48ms/step - loss: 1.3566 - accuracy: 0.4450 - val_loss: 1.3721 - val_accuracy: 0.4550\n"
          ]
        }
      ],
      "source": [
        "history = model.fit(partial_x_train,\n",
        "                    partial_y_train,\n",
        "                    epochs=80,\n",
        "                    batch_size=512,\n",
        "                    validation_data=(x_val, y_val))"
      ]
    },
    {
      "cell_type": "markdown",
      "metadata": {
        "id": "yzI-XdUtXWZZ"
      },
      "source": [
        "### Listing 4.19 Plotting the training and validation loss"
      ]
    },
    {
      "cell_type": "code",
      "execution_count": 161,
      "metadata": {
        "id": "zkbMpyohXbBo",
        "colab": {
          "base_uri": "https://localhost:8080/",
          "height": 472
        },
        "outputId": "45e08b3b-3083-46be-e620-c5292ff91330"
      },
      "outputs": [
        {
          "output_type": "display_data",
          "data": {
            "text/plain": [
              "<Figure size 640x480 with 1 Axes>"
            ],
            "image/png": "[encoded data removed]"
          },
          "metadata": {}
        }
      ],
      "source": [
        "loss = history.history[\"loss\"]\n",
        "val_loss = history.history[\"val_loss\"]\n",
        "epochs = range(1, len(loss) + 1)\n",
        "plt.plot(epochs, loss, \"bo\", label=\"Training loss\")\n",
        "plt.plot(epochs, val_loss, \"b\", label=\"Validation loss\")\n",
        "plt.title(\"Training and validation loss\")\n",
        "plt.xlabel(\"Epochs\")\n",
        "plt.ylabel(\"Loss\")\n",
        "plt.legend()\n",
        "plt.show()"
      ]
    },
    {
      "cell_type": "markdown",
      "metadata": {
        "id": "Hatv4FVEXjmw"
      },
      "source": [
        "### Listing 4.20 Plotting the training and validation accuracy"
      ]
    },
    {
      "cell_type": "code",
      "execution_count": 162,
      "metadata": {
        "id": "HvqJTVjNXlGy",
        "colab": {
          "base_uri": "https://localhost:8080/",
          "height": 472
        },
        "outputId": "6419f004-1855-4e53-9677-3906acd9be2d"
      },
      "outputs": [
        {
          "output_type": "display_data",
          "data": {
            "text/plain": [
              "<Figure size 640x480 with 1 Axes>"
            ],
            "image/png": "[encoded data removed]"
          },
          "metadata": {}
        }
      ],
      "source": [
        "plt.clf()\n",
        "acc = history.history[\"accuracy\"]\n",
        "val_acc = history.history[\"val_accuracy\"]\n",
        "plt.plot(epochs, acc, \"bo\", label=\"Training accuracy\")\n",
        "plt.plot(epochs, val_acc, \"b\", label=\"Validation accuracy\")\n",
        "plt.title(\"Training and validation accuracy\")\n",
        "plt.xlabel(\"Epochs\")\n",
        "plt.ylabel(\"Accuracy\")\n",
        "plt.legend()\n",
        "plt.show()"
      ]
    },
    {
      "cell_type": "markdown",
      "metadata": {
        "id": "M8FSGJHhPFPp"
      },
      "source": [
        "### Listing 4.21 Retraining a model from scratch"
      ]
    },
    {
      "cell_type": "code",
      "execution_count": 163,
      "metadata": {
        "id": "TZRY7NQ9PHoX",
        "colab": {
          "base_uri": "https://localhost:8080/"
        },
        "outputId": "fe911e67-7305-48c6-85da-4571f41b5c90"
      },
      "outputs": [
        {
          "output_type": "stream",
          "name": "stdout",
          "text": [
            "Epoch 1/25\n",
            "29/29 [==============================] - 2s 33ms/step - loss: 1.5957 - accuracy: 0.4324\n",
            "Epoch 2/25\n",
            "29/29 [==============================] - 1s 35ms/step - loss: 1.5592 - accuracy: 0.4457\n",
            "Epoch 3/25\n",
            "29/29 [==============================] - 1s 34ms/step - loss: 1.5143 - accuracy: 0.4457\n",
            "Epoch 4/25\n",
            "29/29 [==============================] - 1s 33ms/step - loss: 1.4658 - accuracy: 0.4457\n",
            "Epoch 5/25\n",
            "29/29 [==============================] - 1s 23ms/step - loss: 1.4216 - accuracy: 0.4457\n",
            "Epoch 6/25\n",
            "29/29 [==============================] - 1s 24ms/step - loss: 1.3859 - accuracy: 0.4457\n",
            "Epoch 7/25\n",
            "29/29 [==============================] - 1s 24ms/step - loss: 1.3658 - accuracy: 0.4457\n",
            "Epoch 8/25\n",
            "29/29 [==============================] - 1s 23ms/step - loss: 1.3599 - accuracy: 0.4457\n",
            "Epoch 9/25\n",
            "29/29 [==============================] - 1s 23ms/step - loss: 1.3588 - accuracy: 0.4457\n",
            "Epoch 10/25\n",
            "29/29 [==============================] - 1s 23ms/step - loss: 1.3582 - accuracy: 0.4457\n",
            "Epoch 11/25\n",
            "29/29 [==============================] - 1s 22ms/step - loss: 1.3580 - accuracy: 0.4457\n",
            "Epoch 12/25\n",
            "29/29 [==============================] - 1s 23ms/step - loss: 1.3579 - accuracy: 0.4457\n",
            "Epoch 13/25\n",
            "29/29 [==============================] - 1s 23ms/step - loss: 1.3577 - accuracy: 0.4457\n",
            "Epoch 14/25\n",
            "29/29 [==============================] - 1s 24ms/step - loss: 1.3578 - accuracy: 0.4457\n",
            "Epoch 15/25\n",
            "29/29 [==============================] - 1s 24ms/step - loss: 1.3576 - accuracy: 0.4457\n",
            "Epoch 16/25\n",
            "29/29 [==============================] - 1s 23ms/step - loss: 1.3577 - accuracy: 0.4457\n",
            "Epoch 17/25\n",
            "29/29 [==============================] - 1s 23ms/step - loss: 1.3577 - accuracy: 0.4457\n",
            "Epoch 18/25\n",
            "29/29 [==============================] - 1s 24ms/step - loss: 1.3578 - accuracy: 0.4457\n",
            "Epoch 19/25\n",
            "29/29 [==============================] - 1s 27ms/step - loss: 1.3576 - accuracy: 0.4457\n",
            "Epoch 20/25\n",
            "29/29 [==============================] - 1s 34ms/step - loss: 1.3578 - accuracy: 0.4457\n",
            "Epoch 21/25\n",
            "29/29 [==============================] - 1s 35ms/step - loss: 1.3577 - accuracy: 0.4457\n",
            "Epoch 22/25\n",
            "29/29 [==============================] - 1s 32ms/step - loss: 1.3577 - accuracy: 0.4457\n",
            "Epoch 23/25\n",
            "29/29 [==============================] - 1s 23ms/step - loss: 1.3576 - accuracy: 0.4457\n",
            "Epoch 24/25\n",
            "29/29 [==============================] - 1s 24ms/step - loss: 1.3577 - accuracy: 0.4457\n",
            "Epoch 25/25\n",
            "29/29 [==============================] - 1s 24ms/step - loss: 1.3577 - accuracy: 0.4457\n",
            "193/193 [==============================] - 1s 3ms/step - loss: 1.3595 - accuracy: 0.4328\n"
          ]
        }
      ],
      "source": [
        "model = keras.Sequential([\n",
        "    layers.Dense(16, activation=\"relu\"),\n",
        "    layers.Dense(16, activation=\"relu\"),\n",
        "        layers.Dense(5, activation=\"softmax\")\n",
        "    ])\n",
        "model.compile(optimizer=\"rmsprop\",\n",
        "              loss=\"categorical_crossentropy\",\n",
        "              metrics=[\"accuracy\"])\n",
        "model.fit(x_train,\n",
        "          y_train,\n",
        "          epochs=25,\n",
        "          batch_size=512)\n",
        "results = model.evaluate(x_test, y_test)"
      ]
    },
    {
      "cell_type": "code",
      "execution_count": 164,
      "metadata": {
        "id": "9R-b4JskwCJ6",
        "colab": {
          "base_uri": "https://localhost:8080/"
        },
        "outputId": "bb0d0469-10f3-4678-9f95-5c79d303dbf6"
      },
      "outputs": [
        {
          "output_type": "execute_result",
          "data": {
            "text/plain": [
              "[1.3595064878463745, 0.43282368779182434]"
            ]
          },
          "metadata": {},
          "execution_count": 164
        }
      ],
      "source": [
        "results"
      ]
    },
    {
      "cell_type": "code",
      "execution_count": 165,
      "metadata": {
        "id": "aRJFzadfwG2T",
        "colab": {
          "base_uri": "https://localhost:8080/"
        },
        "outputId": "cd667ebe-6123-47fe-9333-440f4257dcc7"
      },
      "outputs": [
        {
          "output_type": "execute_result",
          "data": {
            "text/plain": [
              "0.2983083929733247"
            ]
          },
          "metadata": {},
          "execution_count": 165
        }
      ],
      "source": [
        "import copy\n",
        "# Convert the Pandas Series to a NumPy array\n",
        "test_labels_array = test_labels.to_numpy()\n",
        "\n",
        "# Make a copy of the NumPy array\n",
        "test_labels_copy = copy.copy(test_labels_array)\n",
        "\n",
        "# Shuffle the copy of the array\n",
        "np.random.shuffle(test_labels_copy)\n",
        "\n",
        "# Calculate the mean\n",
        "hits_array = test_labels_array == test_labels_copy\n",
        "hits_array.mean()"
      ]
    },
    {
      "cell_type": "markdown",
      "metadata": {
        "id": "w0JcNxO0xNoV"
      },
      "source": [
        "### 4.2.5 Generating predictions on new data"
      ]
    },
    {
      "cell_type": "code",
      "execution_count": 166,
      "metadata": {
        "id": "ySNdoTTQxOtH",
        "colab": {
          "base_uri": "https://localhost:8080/"
        },
        "outputId": "7355e220-0591-43fc-da0e-bc58c72bfea0"
      },
      "outputs": [
        {
          "output_type": "stream",
          "name": "stdout",
          "text": [
            "193/193 [==============================] - 1s 3ms/step\n"
          ]
        }
      ],
      "source": [
        "predictions = model.predict(x_test)"
      ]
    },
    {
      "cell_type": "code",
      "execution_count": 167,
      "metadata": {
        "id": "uWDtdesDxWGo",
        "colab": {
          "base_uri": "https://localhost:8080/"
        },
        "outputId": "551ea1e8-69ca-446f-ff3c-84a089d3fcb3"
      },
      "outputs": [
        {
          "output_type": "execute_result",
          "data": {
            "text/plain": [
              "(5,)"
            ]
          },
          "metadata": {},
          "execution_count": 167
        }
      ],
      "source": [
        "predictions[0].shape"
      ]
    },
    {
      "cell_type": "code",
      "execution_count": 168,
      "metadata": {
        "id": "4V80Loh5xZSX",
        "colab": {
          "base_uri": "https://localhost:8080/"
        },
        "outputId": "e1224ac2-f07f-4ccb-be52-bdc7d3c7488e"
      },
      "outputs": [
        {
          "output_type": "execute_result",
          "data": {
            "text/plain": [
              "1.0"
            ]
          },
          "metadata": {},
          "execution_count": 168
        }
      ],
      "source": [
        "np.sum(predictions[0])"
      ]
    },
    {
      "cell_type": "code",
      "execution_count": 169,
      "metadata": {
        "id": "VJmSIKaOxcwN",
        "colab": {
          "base_uri": "https://localhost:8080/"
        },
        "outputId": "c1c39e10-0214-47a4-c767-67b32785752e"
      },
      "outputs": [
        {
          "output_type": "execute_result",
          "data": {
            "text/plain": [
              "4"
            ]
          },
          "metadata": {},
          "execution_count": 169
        }
      ],
      "source": [
        "np.argmax(predictions[0])"
      ]
    },
    {
      "cell_type": "markdown",
      "metadata": {
        "id": "3rfLwk5xxiXk"
      },
      "source": [
        "### 4.2.6 A different way to handle the labels and the loss"
      ]
    },
    {
      "cell_type": "code",
      "execution_count": 170,
      "metadata": {
        "id": "prOw0_7rxlb7"
      },
      "outputs": [],
      "source": [
        "y_train = np.array(train_labels)\n",
        "y_test = np.array(test_labels)"
      ]
    },
    {
      "cell_type": "code",
      "execution_count": 171,
      "metadata": {
        "id": "aOnIfrNTxpSv",
        "colab": {
          "base_uri": "https://localhost:8080/"
        },
        "outputId": "d285a136-5fc9-481a-f6e1-861d2619fc1f"
      },
      "outputs": [
        {
          "output_type": "stream",
          "name": "stdout",
          "text": [
            "Epoch 1/25\n",
            "29/29 [==============================] - 2s 35ms/step - loss: 1.5947 - accuracy: 0.4079\n",
            "Epoch 2/25\n",
            "29/29 [==============================] - 1s 25ms/step - loss: 1.5487 - accuracy: 0.4457\n",
            "Epoch 3/25\n",
            "29/29 [==============================] - 1s 25ms/step - loss: 1.4996 - accuracy: 0.4457\n",
            "Epoch 4/25\n",
            "29/29 [==============================] - 1s 24ms/step - loss: 1.4515 - accuracy: 0.4457\n",
            "Epoch 5/25\n",
            "29/29 [==============================] - 1s 25ms/step - loss: 1.4096 - accuracy: 0.4457\n",
            "Epoch 6/25\n",
            "29/29 [==============================] - 1s 25ms/step - loss: 1.3787 - accuracy: 0.4457\n",
            "Epoch 7/25\n",
            "29/29 [==============================] - 1s 24ms/step - loss: 1.3631 - accuracy: 0.4457\n",
            "Epoch 8/25\n",
            "29/29 [==============================] - 1s 25ms/step - loss: 1.3590 - accuracy: 0.4457\n",
            "Epoch 9/25\n",
            "29/29 [==============================] - 1s 24ms/step - loss: 1.3580 - accuracy: 0.4457\n",
            "Epoch 10/25\n",
            "29/29 [==============================] - 1s 24ms/step - loss: 1.3577 - accuracy: 0.4457\n",
            "Epoch 11/25\n",
            "29/29 [==============================] - 1s 23ms/step - loss: 1.3577 - accuracy: 0.4457\n",
            "Epoch 12/25\n",
            "29/29 [==============================] - 1s 24ms/step - loss: 1.3578 - accuracy: 0.4457\n",
            "Epoch 13/25\n",
            "29/29 [==============================] - 1s 24ms/step - loss: 1.3577 - accuracy: 0.4457\n",
            "Epoch 14/25\n",
            "29/29 [==============================] - 1s 24ms/step - loss: 1.3577 - accuracy: 0.4457\n",
            "Epoch 15/25\n",
            "29/29 [==============================] - 1s 26ms/step - loss: 1.3579 - accuracy: 0.4457\n",
            "Epoch 16/25\n",
            "29/29 [==============================] - 1s 36ms/step - loss: 1.3577 - accuracy: 0.4457\n",
            "Epoch 17/25\n",
            "29/29 [==============================] - 1s 34ms/step - loss: 1.3577 - accuracy: 0.4457\n",
            "Epoch 18/25\n",
            "29/29 [==============================] - 1s 33ms/step - loss: 1.3578 - accuracy: 0.4457\n",
            "Epoch 19/25\n",
            "29/29 [==============================] - 1s 24ms/step - loss: 1.3577 - accuracy: 0.4457\n",
            "Epoch 20/25\n",
            "29/29 [==============================] - 1s 24ms/step - loss: 1.3577 - accuracy: 0.4457\n",
            "Epoch 21/25\n",
            "29/29 [==============================] - 1s 25ms/step - loss: 1.3577 - accuracy: 0.4457\n",
            "Epoch 22/25\n",
            "29/29 [==============================] - 1s 25ms/step - loss: 1.3578 - accuracy: 0.4457\n",
            "Epoch 23/25\n",
            "29/29 [==============================] - 1s 24ms/step - loss: 1.3578 - accuracy: 0.4457\n",
            "Epoch 24/25\n",
            "29/29 [==============================] - 1s 26ms/step - loss: 1.3577 - accuracy: 0.4457\n",
            "Epoch 25/25\n",
            "29/29 [==============================] - 1s 24ms/step - loss: 1.3577 - accuracy: 0.4457\n",
            "193/193 [==============================] - 1s 2ms/step - loss: 1.3583 - accuracy: 0.4328\n"
          ]
        }
      ],
      "source": [
        "model = keras.Sequential([\n",
        "    layers.Dense(16, activation=\"relu\"),\n",
        "    layers.Dense(16, activation=\"relu\"),\n",
        "        layers.Dense(5, activation=\"softmax\")\n",
        "    ])\n",
        "\n",
        "model.compile(optimizer=\"rmsprop\",\n",
        "              loss=\"sparse_categorical_crossentropy\",\n",
        "              metrics=[\"accuracy\"])\n",
        "model.fit(x_train,\n",
        "          y_train,\n",
        "          epochs=25,\n",
        "          batch_size=512)\n",
        "results = model.evaluate(x_test, y_test)"
      ]
    },
    {
      "cell_type": "code",
      "execution_count": 172,
      "metadata": {
        "id": "Szkl4getMEQj",
        "colab": {
          "base_uri": "https://localhost:8080/"
        },
        "outputId": "a671ee9c-bac2-44ce-d04f-9f70bb7c4153"
      },
      "outputs": [
        {
          "output_type": "execute_result",
          "data": {
            "text/plain": [
              "[1.3583482503890991, 0.43282368779182434]"
            ]
          },
          "metadata": {},
          "execution_count": 172
        }
      ],
      "source": [
        "results"
      ]
    },
    {
      "cell_type": "markdown",
      "metadata": {
        "id": "owUzJLuyxtZU"
      },
      "source": [
        "### Listing 4.22 A model with an information bottleneck"
      ]
    },
    {
      "cell_type": "code",
      "execution_count": 173,
      "metadata": {
        "id": "9yNQyyZ8xwJ8"
      },
      "outputs": [],
      "source": [
        "model = keras.Sequential([\n",
        "    layers.Dense(64, activation=\"relu\"),\n",
        "    layers.Dense(4, activation=\"relu\"),\n",
        "    layers.Dense(5, activation=\"softmax\")\n",
        "])\n",
        "model.compile(optimizer=\"rmsprop\",\n",
        "              loss=\"categorical_crossentropy\",\n",
        "              metrics=[\"accuracy\"])"
      ]
    },
    {
      "cell_type": "code",
      "execution_count": 174,
      "metadata": {
        "id": "0X25_2pxyGVp",
        "colab": {
          "base_uri": "https://localhost:8080/"
        },
        "outputId": "0d8f90a6-0835-4f0f-f0e1-0fbfbdee9150"
      },
      "outputs": [
        {
          "output_type": "stream",
          "name": "stdout",
          "text": [
            "Epoch 1/20\n",
            "105/105 [==============================] - 3s 19ms/step - loss: 1.5727 - accuracy: 0.4190 - val_loss: 1.5452 - val_accuracy: 0.4540\n",
            "Epoch 2/20\n",
            "105/105 [==============================] - 2s 17ms/step - loss: 1.5156 - accuracy: 0.4450 - val_loss: 1.4968 - val_accuracy: 0.4550\n",
            "Epoch 3/20\n",
            "105/105 [==============================] - 2s 20ms/step - loss: 1.4702 - accuracy: 0.4450 - val_loss: 1.4584 - val_accuracy: 0.4550\n",
            "Epoch 4/20\n",
            "105/105 [==============================] - 3s 25ms/step - loss: 1.4330 - accuracy: 0.4450 - val_loss: 1.4278 - val_accuracy: 0.4550\n",
            "Epoch 5/20\n",
            "105/105 [==============================] - 2s 17ms/step - loss: 1.4054 - accuracy: 0.4450 - val_loss: 1.4054 - val_accuracy: 0.4550\n",
            "Epoch 6/20\n",
            "105/105 [==============================] - 2s 17ms/step - loss: 1.3857 - accuracy: 0.4450 - val_loss: 1.3900 - val_accuracy: 0.4550\n",
            "Epoch 7/20\n",
            "105/105 [==============================] - 2s 17ms/step - loss: 1.3724 - accuracy: 0.4450 - val_loss: 1.3802 - val_accuracy: 0.4550\n",
            "Epoch 8/20\n",
            "105/105 [==============================] - 2s 18ms/step - loss: 1.3642 - accuracy: 0.4450 - val_loss: 1.3748 - val_accuracy: 0.4550\n",
            "Epoch 9/20\n",
            "105/105 [==============================] - 2s 17ms/step - loss: 1.3600 - accuracy: 0.4450 - val_loss: 1.3724 - val_accuracy: 0.4550\n",
            "Epoch 10/20\n",
            "105/105 [==============================] - 2s 23ms/step - loss: 1.3581 - accuracy: 0.4450 - val_loss: 1.3717 - val_accuracy: 0.4550\n",
            "Epoch 11/20\n",
            "105/105 [==============================] - 2s 22ms/step - loss: 1.3572 - accuracy: 0.4450 - val_loss: 1.3715 - val_accuracy: 0.4550\n",
            "Epoch 12/20\n",
            "105/105 [==============================] - 2s 17ms/step - loss: 1.3569 - accuracy: 0.4450 - val_loss: 1.3715 - val_accuracy: 0.4550\n",
            "Epoch 13/20\n",
            "105/105 [==============================] - 2s 17ms/step - loss: 1.3567 - accuracy: 0.4450 - val_loss: 1.3718 - val_accuracy: 0.4550\n",
            "Epoch 14/20\n",
            "105/105 [==============================] - 2s 18ms/step - loss: 1.3567 - accuracy: 0.4450 - val_loss: 1.3718 - val_accuracy: 0.4550\n",
            "Epoch 15/20\n",
            "105/105 [==============================] - 2s 17ms/step - loss: 1.3566 - accuracy: 0.4450 - val_loss: 1.3719 - val_accuracy: 0.4550\n",
            "Epoch 16/20\n",
            "105/105 [==============================] - 2s 17ms/step - loss: 1.3566 - accuracy: 0.4450 - val_loss: 1.3720 - val_accuracy: 0.4550\n",
            "Epoch 17/20\n",
            "105/105 [==============================] - 3s 26ms/step - loss: 1.3566 - accuracy: 0.4450 - val_loss: 1.3721 - val_accuracy: 0.4550\n",
            "Epoch 18/20\n",
            "105/105 [==============================] - 2s 18ms/step - loss: 1.3566 - accuracy: 0.4450 - val_loss: 1.3720 - val_accuracy: 0.4550\n",
            "Epoch 19/20\n",
            "105/105 [==============================] - 2s 17ms/step - loss: 1.3566 - accuracy: 0.4450 - val_loss: 1.3720 - val_accuracy: 0.4550\n",
            "Epoch 20/20\n",
            "105/105 [==============================] - 2s 17ms/step - loss: 1.3566 - accuracy: 0.4450 - val_loss: 1.3721 - val_accuracy: 0.4550\n"
          ]
        },
        {
          "output_type": "execute_result",
          "data": {
            "text/plain": [
              "<keras.src.callbacks.History at 0x7fd50c8ad390>"
            ]
          },
          "metadata": {},
          "execution_count": 174
        }
      ],
      "source": [
        "model.fit(partial_x_train, partial_y_train, epochs=20, batch_size=128, validation_data=(x_val, y_val))"
      ]
    },
    {
      "cell_type": "markdown",
      "metadata": {
        "id": "IDLsmqX1O_c5"
      },
      "source": [
        "### Further Experiments"
      ]
    },
    {
      "cell_type": "code",
      "execution_count": 175,
      "metadata": {
        "id": "N8kfIGYePCcX"
      },
      "outputs": [],
      "source": [
        "model = keras.Sequential([\n",
        "    layers.Dense(16, activation=\"relu\"),\n",
        "        layers.Dense(5, activation=\"softmax\")\n",
        "    ])\n",
        "model.compile(optimizer=\"rmsprop\",\n",
        "              loss=\"categorical_crossentropy\",\n",
        "              metrics=[\"accuracy\"])"
      ]
    },
    {
      "cell_type": "code",
      "source": [
        "# Need to re-run the begining cells to prevent errors\n",
        "# Problems originates when we transform y_train to an array\n",
        "model.fit(x_train,\n",
        "          y_train,\n",
        "          epochs=25,\n",
        "          batch_size=16)\n",
        "results = model.evaluate(x_test, y_test)"
      ],
      "metadata": {
        "id": "jlE1fkzGCu9T"
      },
      "execution_count": null,
      "outputs": []
    },
    {
      "cell_type": "code",
      "execution_count": 154,
      "metadata": {
        "id": "TX6m1GkHQSPe",
        "colab": {
          "base_uri": "https://localhost:8080/"
        },
        "outputId": "044f791b-a64f-4571-f35e-1ecd91ea943b"
      },
      "outputs": [
        {
          "output_type": "execute_result",
          "data": {
            "text/plain": [
              "[1.3585187196731567, 0.43282368779182434]"
            ]
          },
          "metadata": {},
          "execution_count": 154
        }
      ],
      "source": [
        "results"
      ]
    },
    {
      "cell_type": "markdown",
      "metadata": {
        "id": "-1YESYzU6Tqz"
      },
      "source": [
        "# Regression"
      ]
    },
    {
      "cell_type": "markdown",
      "metadata": {
        "id": "iaswMOcZpNku"
      },
      "source": [
        "### Listing 4.23 Loading the Poland apartment dataset"
      ]
    },
    {
      "cell_type": "code",
      "execution_count": 3,
      "metadata": {
        "id": "4YCVMe4voSM-"
      },
      "outputs": [],
      "source": [
        "# Load the dataset (replace with your dataset URL)\n",
        "url = \"https://raw.githubusercontent.com/RoroDuran23/irisDS_CPSC393_ML/main/apartments_pl_2023_10.csv?token=GHSAT0AAAAAACJR55EKTU7QYSLH2GBIC7FEZJ65S5A\"\n",
        "df = pd.read_csv(url)"
      ]
    },
    {
      "cell_type": "code",
      "execution_count": 4,
      "metadata": {
        "id": "XXJLYgXVSMj4"
      },
      "outputs": [],
      "source": [
        "# Drop null values\n",
        "df.dropna(inplace=True)"
      ]
    },
    {
      "cell_type": "code",
      "execution_count": 5,
      "metadata": {
        "id": "1_3lDRg3KcrT"
      },
      "outputs": [],
      "source": [
        "numeric_features = ['squareMeters', 'rooms', 'floor', 'floorCount', 'buildYear', 'latitude', 'longitude', 'centreDistance', 'poiCount',\n",
        "                    'schoolDistance', 'clinicDistance', 'postOfficeDistance', 'kindergartenDistance', 'restaurantDistance',\n",
        "                    'collegeDistance', 'pharmacyDistance']"
      ]
    },
    {
      "cell_type": "code",
      "execution_count": 6,
      "metadata": {
        "id": "91QcHRkyoSCa"
      },
      "outputs": [],
      "source": [
        "X = df[numeric_features]\n",
        "y = df['price']"
      ]
    },
    {
      "cell_type": "code",
      "execution_count": 7,
      "metadata": {
        "id": "giH9GLeIZYwO"
      },
      "outputs": [],
      "source": [
        "train_data, test_data, train_targets, test_targets = train_test_split(X, y, test_size=0.3, random_state=42)"
      ]
    },
    {
      "cell_type": "code",
      "execution_count": 7,
      "metadata": {
        "id": "qXV9GtV6pd_z",
        "colab": {
          "base_uri": "https://localhost:8080/"
        },
        "outputId": "9c891b32-017d-4f91-bcae-42ab21c750c9"
      },
      "outputs": [
        {
          "output_type": "execute_result",
          "data": {
            "text/plain": [
              "(1371, 16)"
            ]
          },
          "metadata": {},
          "execution_count": 7
        }
      ],
      "source": [
        "train_data.shape"
      ]
    },
    {
      "cell_type": "code",
      "execution_count": 8,
      "metadata": {
        "id": "-SEY7MS-pf8V",
        "colab": {
          "base_uri": "https://localhost:8080/"
        },
        "outputId": "c753b9a0-5b11-4bbe-e3ff-456436a6004e"
      },
      "outputs": [
        {
          "output_type": "execute_result",
          "data": {
            "text/plain": [
              "(588, 16)"
            ]
          },
          "metadata": {},
          "execution_count": 8
        }
      ],
      "source": [
        "test_data.shape"
      ]
    },
    {
      "cell_type": "code",
      "execution_count": null,
      "metadata": {
        "id": "HqQWU6EAqmoe"
      },
      "outputs": [],
      "source": [
        "train_targets"
      ]
    },
    {
      "cell_type": "markdown",
      "metadata": {
        "id": "-22OYY5Fq2r6"
      },
      "source": [
        "### Listing 4.24 Normalizing the data"
      ]
    },
    {
      "cell_type": "code",
      "execution_count": 8,
      "metadata": {
        "id": "LTQSMDSf7kv8"
      },
      "outputs": [],
      "source": [
        "mean = train_data.mean(axis=0)\n",
        "train_data -= mean\n",
        "std = train_data.std(axis=0)\n",
        "train_data /= std\n",
        "test_data -= mean\n",
        "test_data /= std"
      ]
    },
    {
      "cell_type": "markdown",
      "metadata": {
        "id": "IAkRQDEV7CKJ"
      },
      "source": [
        "### Listing 4.25 Model definition"
      ]
    },
    {
      "cell_type": "code",
      "execution_count": 9,
      "metadata": {
        "id": "x_-50Hx17Dx2"
      },
      "outputs": [],
      "source": [
        "def build_model():\n",
        "  model = keras.Sequential([\n",
        "        layers.Dense(64, activation=\"relu\"),\n",
        "        layers.Dense(64, activation=\"relu\"),\n",
        "        layers.Dense(1)\n",
        "  ])\n",
        "  model.compile(optimizer=\"rmsprop\", loss=\"mse\", metrics=[\"mae\"])\n",
        "  return model"
      ]
    },
    {
      "cell_type": "markdown",
      "metadata": {
        "id": "R0TJVgGj8CI4"
      },
      "source": [
        "### Listing 4.26 K-fold validation"
      ]
    },
    {
      "cell_type": "code",
      "execution_count": 17,
      "metadata": {
        "id": "EhbTbB9n8Dt5",
        "colab": {
          "base_uri": "https://localhost:8080/"
        },
        "outputId": "94612b21-f8eb-42b2-e9dc-1adfd541d322"
      },
      "outputs": [
        {
          "output_type": "stream",
          "name": "stdout",
          "text": [
            "Processing fold #0\n",
            "Processing fold #1\n",
            "Processing fold #2\n",
            "Processing fold #3\n"
          ]
        }
      ],
      "source": [
        "k=4\n",
        "num_val_samples = len(train_data) // k\n",
        "num_epochs = 100\n",
        "all_scores = []\n",
        "for i in range(k):\n",
        "  print(f\"Processing fold #{i}\")\n",
        "  val_data = train_data[i * num_val_samples: (i + 1) * num_val_samples]\n",
        "  val_targets = train_targets[i * num_val_samples: (i + 1) * num_val_samples]\n",
        "  partial_train_data = np.concatenate(\n",
        "      [train_data[:i * num_val_samples], train_data[(i + 1) * num_val_samples:]],\n",
        "      axis=0)\n",
        "  partial_train_targets = np.concatenate(\n",
        "      [train_targets[:i * num_val_samples], train_targets[(i + 1) * num_val_samples:]],\n",
        "      axis=0)\n",
        "  model = build_model()\n",
        "  model.fit(partial_train_data, partial_train_targets,\n",
        "            epochs=num_epochs, batch_size=16, verbose=0)\n",
        "  val_mse, val_mae = model.evaluate(val_data, val_targets, verbose=0)\n",
        "  all_scores.append(val_mae)"
      ]
    },
    {
      "cell_type": "code",
      "execution_count": 18,
      "metadata": {
        "id": "Rx7oX0nW_-j4",
        "colab": {
          "base_uri": "https://localhost:8080/"
        },
        "outputId": "023ea7cd-9052-45d2-c851-0b026cc7ca8c"
      },
      "outputs": [
        {
          "output_type": "execute_result",
          "data": {
            "text/plain": [
              "[140462.203125, 132476.578125, 141891.65625, 161661.09375]"
            ]
          },
          "metadata": {},
          "execution_count": 18
        }
      ],
      "source": [
        "all_scores"
      ]
    },
    {
      "cell_type": "code",
      "execution_count": 19,
      "metadata": {
        "id": "qNg_R-vpABc_",
        "colab": {
          "base_uri": "https://localhost:8080/"
        },
        "outputId": "dd7871e7-c6ee-4e77-be44-a3490f66e622"
      },
      "outputs": [
        {
          "output_type": "execute_result",
          "data": {
            "text/plain": [
              "144122.8828125"
            ]
          },
          "metadata": {},
          "execution_count": 19
        }
      ],
      "source": [
        "np.mean(all_scores)"
      ]
    },
    {
      "cell_type": "markdown",
      "metadata": {
        "id": "a6zyG19DAJm7"
      },
      "source": [
        "### Listing 4.27 Saving the validation logs at each fold"
      ]
    },
    {
      "cell_type": "code",
      "execution_count": null,
      "metadata": {
        "id": "ygOiuptLAI6s",
        "colab": {
          "base_uri": "https://localhost:8080/"
        },
        "outputId": "679369d8-7bd3-4424-98f4-d25ea0c3fb88"
      },
      "outputs": [
        {
          "metadata": {
            "tags": null
          },
          "name": "stdout",
          "output_type": "stream",
          "text": [
            "Processing fold #0\n",
            "Processing fold #1\n",
            "Processing fold #2\n",
            "Processing fold #3\n"
          ]
        }
      ],
      "source": [
        "num_epochs = 500\n",
        "all_mae_histories = []\n",
        "for i in range(k):\n",
        "  print(f\"Processing fold #{i}\")\n",
        "  val_data = train_data[i * num_val_samples: (i + 1) * num_val_samples]\n",
        "  val_targets = train_targets[i * num_val_samples: (i + 1) * num_val_samples]\n",
        "  partial_train_data = np.concatenate(\n",
        "      [train_data[:i * num_val_samples], train_data[(i + 1) * num_val_samples:]],\n",
        "      axis=0)\n",
        "  partial_train_targets = np.concatenate(\n",
        "      [train_targets[:i * num_val_samples], train_targets[(i + 1) * num_val_samples:]],\n",
        "      axis=0)\n",
        "  model = build_model()\n",
        "  history = model.fit(partial_train_data, partial_train_targets,\n",
        "  validation_data=(val_data, val_targets),\n",
        "  epochs=num_epochs, batch_size=16, verbose=0)\n",
        "  mae_history = history.history[\"val_mae\"]\n",
        "  all_mae_histories.append(mae_history)\n"
      ]
    },
    {
      "cell_type": "markdown",
      "metadata": {
        "id": "4sPMemkEyNmp"
      },
      "source": [
        "### Listing 4.28 Building the history of successive mean K-fold validation scores"
      ]
    },
    {
      "cell_type": "code",
      "execution_count": 21,
      "metadata": {
        "id": "guMZazYMBGtb"
      },
      "outputs": [],
      "source": [
        "average_mae_history = [\n",
        "    np.mean([x[i] for x in all_mae_histories]) for i in range(num_epochs)]\n"
      ]
    },
    {
      "cell_type": "markdown",
      "metadata": {
        "id": "DLtABNpHBqh4"
      },
      "source": [
        "### Listing 4.29 Plotting validation scores"
      ]
    },
    {
      "cell_type": "code",
      "execution_count": 22,
      "metadata": {
        "id": "c1HdOgTGBryp",
        "colab": {
          "base_uri": "https://localhost:8080/",
          "height": 450
        },
        "outputId": "7f8f2185-6896-4bd4-9c87-09d6c260f05d"
      },
      "outputs": [
        {
          "output_type": "display_data",
          "data": {
            "text/plain": [
              "<Figure size 640x480 with 1 Axes>"
            ],
            "image/png": "[encoded data removed]"
          },
          "metadata": {}
        }
      ],
      "source": [
        "plt.plot(range(1, len(average_mae_history) + 1), average_mae_history)\n",
        "plt.xlabel(\"Epochs\")\n",
        "plt.ylabel(\"Validation MAE\")\n",
        "plt.show()"
      ]
    },
    {
      "cell_type": "markdown",
      "metadata": {
        "id": "vvJeoL47ya9_"
      },
      "source": [
        "\n",
        "### Listing 4.30 Plotting validation scores, excluding the first 10 data points"
      ]
    },
    {
      "cell_type": "code",
      "execution_count": 23,
      "metadata": {
        "id": "k2ScvSiMDH-6",
        "colab": {
          "base_uri": "https://localhost:8080/",
          "height": 454
        },
        "outputId": "480660f5-18b7-4881-fa40-2c9d806ee8be"
      },
      "outputs": [
        {
          "output_type": "display_data",
          "data": {
            "text/plain": [
              "<Figure size 640x480 with 1 Axes>"
            ],
            "image/png": "[encoded data removed]"
          },
          "metadata": {}
        }
      ],
      "source": [
        "truncated_mae_history = average_mae_history[10:]\n",
        "plt.plot(range(1, len(truncated_mae_history) + 1), truncated_mae_history)\n",
        "plt.xlabel(\"Epochs\")\n",
        "plt.ylabel(\"Validation MAE\")\n",
        "plt.show()"
      ]
    },
    {
      "cell_type": "markdown",
      "metadata": {
        "id": "srmVq2-1yh7i"
      },
      "source": [
        "### Listing 4.31 Training the final model"
      ]
    },
    {
      "cell_type": "code",
      "execution_count": 24,
      "metadata": {
        "id": "UHQpx-HPD2ft",
        "colab": {
          "base_uri": "https://localhost:8080/"
        },
        "outputId": "14916d64-9911-4cc2-9529-9a94a0413fcb"
      },
      "outputs": [
        {
          "output_type": "stream",
          "name": "stdout",
          "text": [
            "19/19 [==============================] - 1s 19ms/step - loss: 32021553152.0000 - mae: 123604.6641\n"
          ]
        }
      ],
      "source": [
        "model = build_model()\n",
        "model.fit(train_data, train_targets,\n",
        "          epochs=70, batch_size=16, verbose=0)\n",
        "test_mse_score, test_mae_score = model.evaluate(test_data, test_targets)"
      ]
    },
    {
      "cell_type": "code",
      "execution_count": 25,
      "metadata": {
        "id": "KTYpE5zgExRB",
        "colab": {
          "base_uri": "https://localhost:8080/"
        },
        "outputId": "ba8a05c0-6ade-47bc-9df7-f3f2cea44309"
      },
      "outputs": [
        {
          "output_type": "execute_result",
          "data": {
            "text/plain": [
              "123604.6640625"
            ]
          },
          "metadata": {},
          "execution_count": 25
        }
      ],
      "source": [
        "test_mae_score"
      ]
    },
    {
      "cell_type": "markdown",
      "metadata": {
        "id": "WHNDxG2Kyxez"
      },
      "source": [
        "### 4.3.5 Generating predictions on new data"
      ]
    },
    {
      "cell_type": "code",
      "execution_count": 26,
      "metadata": {
        "id": "eWBWv6aJFG1N",
        "colab": {
          "base_uri": "https://localhost:8080/"
        },
        "outputId": "4fc1d4c4-8c71-4a84-a8ad-175977cd654d"
      },
      "outputs": [
        {
          "output_type": "stream",
          "name": "stdout",
          "text": [
            "19/19 [==============================] - 0s 10ms/step\n"
          ]
        },
        {
          "output_type": "execute_result",
          "data": {
            "text/plain": [
              "array([547695.56], dtype=float32)"
            ]
          },
          "metadata": {},
          "execution_count": 26
        }
      ],
      "source": [
        "predictions = model.predict(test_data)\n",
        "predictions[0]"
      ]
    },
    {
      "cell_type": "markdown",
      "metadata": {
        "id": "Zb0Es-OQROXq"
      },
      "source": [
        "### Further Experiments"
      ]
    },
    {
      "cell_type": "code",
      "execution_count": 27,
      "metadata": {
        "id": "6lkShOZFRUDO"
      },
      "outputs": [],
      "source": [
        "def build_model():\n",
        "  model = keras.Sequential([\n",
        "        layers.Dense(1024, activation=\"relu\"),\n",
        "        layers.Dense(1024, activation=\"relu\"),\n",
        "        layers.Dense(1024, activation=\"relu\"),\n",
        "        layers.Dense(1024, activation=\"relu\"),\n",
        "        layers.Dense(1)\n",
        "  ])\n",
        "  model.compile(optimizer=\"adam\", loss=\"mse\", metrics=[\"mae\"])\n",
        "  return model"
      ]
    },
    {
      "cell_type": "code",
      "execution_count": 28,
      "metadata": {
        "id": "NZ0bwIrK2I01",
        "colab": {
          "base_uri": "https://localhost:8080/"
        },
        "outputId": "5cdbe061-1d91-4a1e-b4fc-a5fedfda9761"
      },
      "outputs": [
        {
          "output_type": "stream",
          "name": "stdout",
          "text": [
            "19/19 [==============================] - 0s 8ms/step - loss: 31097638912.0000 - mae: 123117.5000\n"
          ]
        }
      ],
      "source": [
        "model = build_model()\n",
        "model.fit(train_data, train_targets,\n",
        "          epochs=70, batch_size=16, verbose=0)\n",
        "test_mse_score, test_mae_score = model.evaluate(test_data, test_targets)"
      ]
    },
    {
      "cell_type": "code",
      "source": [
        "test_mae_score"
      ],
      "metadata": {
        "colab": {
          "base_uri": "https://localhost:8080/"
        },
        "id": "YRoPZ3kOSEtZ",
        "outputId": "31a30aeb-c0cd-4556-8e14-2ce823d2fe6d"
      },
      "execution_count": 29,
      "outputs": [
        {
          "output_type": "execute_result",
          "data": {
            "text/plain": [
              "123117.5"
            ]
          },
          "metadata": {},
          "execution_count": 29
        }
      ]
    },
    {
      "cell_type": "code",
      "source": [
        "# Flatten data\n",
        "predictions = np.array(predictions).flatten()\n",
        "test_targets = np.array(test_targets).flatten()\n",
        "\n",
        "# Calculate the line of best fit\n",
        "m, b = np.polyfit(predictions, test_targets, 1)\n",
        "\n",
        "# Create a scatter plot\n",
        "plt.scatter(predictions, test_targets, label='Data Points')\n",
        "plt.xlabel('Predicted Values (y-hat)')\n",
        "plt.ylabel('Actual Values (y)')\n",
        "\n",
        "# Plot the line of best fit\n",
        "plt.plot(predictions, m * predictions + b, color='red', label='Regression Line')\n",
        "\n",
        "plt.title('Actual Labels vs. Predicted Values')\n",
        "plt.grid(False)\n",
        "\n",
        "# Show the plot with a legend\n",
        "plt.legend()\n",
        "plt.show()\n"
      ],
      "metadata": {
        "colab": {
          "base_uri": "https://localhost:8080/",
          "height": 472
        },
        "id": "ctir5cnn13OW",
        "outputId": "b684daaf-44fc-4cba-eb6b-a6f3f7cd4afd"
      },
      "execution_count": 37,
      "outputs": [
        {
          "output_type": "display_data",
          "data": {
            "text/plain": [
              "<Figure size 640x480 with 1 Axes>"
            ],
            "image/png": "[encoded data removed]"
          },
          "metadata": {}
        }
      ]
    }
  ],
  "metadata": {
    "colab": {
      "collapsed_sections": [
        "u-SHEXI1WhfW",
        "N2muNmCIgLBl",
        "opW2nT6ThMQw",
        "egAph8mUhZsT",
        "Fk3wD6NPhgGV",
        "Gn11EKXHhmuS",
        "M9xfR3-Ti3h4",
        "4x0puaw8jMVm",
        "m7PGmPLTjaJ_",
        "s70UYg6tefvL",
        "HaU45TgYRXm9",
        "OM3FD_0ZLb0K",
        "HCE3OHuYLoX8",
        "ghQMVwW8H0A4",
        "4S3m3dC2H-Mc",
        "tBt_ZFxRIKHj",
        "yzI-XdUtXWZZ",
        "Hatv4FVEXjmw",
        "M8FSGJHhPFPp",
        "w0JcNxO0xNoV",
        "3rfLwk5xxiXk",
        "owUzJLuyxtZU",
        "IDLsmqX1O_c5"
      ],
      "provenance": []
    },
    "kernelspec": {
      "display_name": "Python 3",
      "name": "python3"
    },
    "language_info": {
      "name": "python"
    }
  },
  "nbformat": 4,
  "nbformat_minor": 0
}